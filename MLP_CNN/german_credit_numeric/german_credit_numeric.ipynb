{
 "metadata": {
  "language_info": {
   "codemirror_mode": {
    "name": "ipython",
    "version": 3
   },
   "file_extension": ".py",
   "mimetype": "text/x-python",
   "name": "python",
   "nbconvert_exporter": "python",
   "pygments_lexer": "ipython3",
   "version": "3.8.0-final"
  },
  "orig_nbformat": 2,
  "kernelspec": {
   "name": "python3",
   "display_name": "Python 3.8.0 64-bit ('venv')",
   "metadata": {
    "interpreter": {
     "hash": "c3e3ebc3ed85679552ffe6c6186f6b6244bed1da983f5d098c8eec86ec31b028"
    }
   }
  }
 },
 "nbformat": 4,
 "nbformat_minor": 2,
 "cells": [
  {
   "cell_type": "code",
   "execution_count": 1,
   "metadata": {},
   "outputs": [],
   "source": [
    "import tensorflow as tf\n",
    "from tensorflow.keras.layers import Conv2D,MaxPool2D,Dense,BatchNormalization,Dropout,Input,Activation,Flatten,Concatenate,Add\n",
    "from tensorflow.keras.layers.experimental.preprocessing import Rescaling,RandomRotation,RandomZoom,RandomFlip,Resizing\n",
    "from tensorflow.keras.models import Model\n",
    "import tensorflow_datasets as tfds\n",
    "import numpy as np \n",
    "import pandas as pd\n",
    "from sklearn.preprocessing import OneHotEncoder\n",
    "from sklearn.model_selection import train_test_split\n",
    "import re"
   ]
  },
  {
   "cell_type": "code",
   "execution_count": 2,
   "metadata": {
    "tags": []
   },
   "outputs": [],
   "source": [
    "train_ds, train_info=tfds.load('german_credit_numeric', split='train', with_info=True,shuffle_files=True, as_supervised=True,data_dir='./data')\n",
    "#train_ds,ds_info  = tfds.load('german_credit_numeric', split='train',data_dir='./data',as_supervised=True, with_info=True)"
   ]
  },
  {
   "cell_type": "code",
   "execution_count": 3,
   "metadata": {},
   "outputs": [
    {
     "output_type": "execute_result",
     "data": {
      "text/plain": [
       "(<tf.Tensor: shape=(24,), dtype=int32, numpy=\n",
       " array([ 3,  6,  4, 13,  2,  5,  1,  4,  3, 28,  3,  2,  2,  2,  1,  1,  0,\n",
       "         1,  0,  0,  1,  0,  0,  1])>,\n",
       " <tf.Tensor: shape=(), dtype=int64, numpy=1>)"
      ]
     },
     "metadata": {},
     "execution_count": 3
    }
   ],
   "source": [
    "next(iter(train_ds))"
   ]
  },
  {
   "cell_type": "code",
   "execution_count": 4,
   "metadata": {},
   "outputs": [
    {
     "output_type": "execute_result",
     "data": {
      "text/plain": [
       "                                            features  label\n",
       "0  [3, 6, 4, 13, 2, 5, 1, 4, 3, 28, 3, 2, 2, 2, 1...      1\n",
       "1  [4, 4, 2, 6, 1, 2, 2, 3, 1, 23, 3, 1, 2, 1, 1,...      1\n",
       "2  [4, 24, 4, 20, 1, 3, 2, 4, 3, 37, 3, 1, 1, 2, ...      1\n",
       "3  [4, 18, 2, 11, 5, 2, 2, 2, 1, 21, 3, 1, 1, 2, ...      1\n",
       "4  [4, 6, 2, 13, 3, 3, 1, 4, 1, 62, 3, 1, 1, 1, 1...      1"
      ],
      "text/html": "<div>\n<style scoped>\n    .dataframe tbody tr th:only-of-type {\n        vertical-align: middle;\n    }\n\n    .dataframe tbody tr th {\n        vertical-align: top;\n    }\n\n    .dataframe thead th {\n        text-align: right;\n    }\n</style>\n<table border=\"1\" class=\"dataframe\">\n  <thead>\n    <tr style=\"text-align: right;\">\n      <th></th>\n      <th>features</th>\n      <th>label</th>\n    </tr>\n  </thead>\n  <tbody>\n    <tr>\n      <th>0</th>\n      <td>[3, 6, 4, 13, 2, 5, 1, 4, 3, 28, 3, 2, 2, 2, 1...</td>\n      <td>1</td>\n    </tr>\n    <tr>\n      <th>1</th>\n      <td>[4, 4, 2, 6, 1, 2, 2, 3, 1, 23, 3, 1, 2, 1, 1,...</td>\n      <td>1</td>\n    </tr>\n    <tr>\n      <th>2</th>\n      <td>[4, 24, 4, 20, 1, 3, 2, 4, 3, 37, 3, 1, 1, 2, ...</td>\n      <td>1</td>\n    </tr>\n    <tr>\n      <th>3</th>\n      <td>[4, 18, 2, 11, 5, 2, 2, 2, 1, 21, 3, 1, 1, 2, ...</td>\n      <td>1</td>\n    </tr>\n    <tr>\n      <th>4</th>\n      <td>[4, 6, 2, 13, 3, 3, 1, 4, 1, 62, 3, 1, 1, 1, 1...</td>\n      <td>1</td>\n    </tr>\n  </tbody>\n</table>\n</div>"
     },
     "metadata": {},
     "execution_count": 4
    }
   ],
   "source": [
    "df = tfds.as_dataframe(train_ds,train_info)\n",
    "# for col, dtype in df.dtypes.items():\n",
    "#     if dtype == np.object:  # Only process byte object columns.\n",
    "#         df[col] = df[col].apply(lambda x: x.decode(\"utf-8\"))\n",
    "df.head(5)"
   ]
  },
  {
   "cell_type": "code",
   "execution_count": 5,
   "metadata": {},
   "outputs": [
    {
     "output_type": "execute_result",
     "data": {
      "text/plain": [
       "24"
      ]
     },
     "metadata": {},
     "execution_count": 5
    }
   ],
   "source": [
    "len(df.iloc[0,0])"
   ]
  },
  {
   "cell_type": "code",
   "execution_count": 6,
   "metadata": {},
   "outputs": [
    {
     "output_type": "execute_result",
     "data": {
      "text/plain": [
       "['feature_0',\n",
       " 'feature_1',\n",
       " 'feature_2',\n",
       " 'feature_3',\n",
       " 'feature_4',\n",
       " 'feature_5',\n",
       " 'feature_6',\n",
       " 'feature_7',\n",
       " 'feature_8',\n",
       " 'feature_9',\n",
       " 'feature_10',\n",
       " 'feature_11',\n",
       " 'feature_12',\n",
       " 'feature_13',\n",
       " 'feature_14',\n",
       " 'feature_15',\n",
       " 'feature_16',\n",
       " 'feature_17',\n",
       " 'feature_18',\n",
       " 'feature_19',\n",
       " 'feature_20',\n",
       " 'feature_21',\n",
       " 'feature_22',\n",
       " 'feature_23']"
      ]
     },
     "metadata": {},
     "execution_count": 6
    }
   ],
   "source": [
    "['feature_' + str(x) for x in range(0,len(df.iloc[0,0]))]"
   ]
  },
  {
   "cell_type": "code",
   "execution_count": 7,
   "metadata": {
    "tags": []
   },
   "outputs": [],
   "source": [
    "def get_list(x_in):\n",
    "    print(x_in.tolist()[0])\n",
    "    return x_in.tolist()[0]\n",
    "\n",
    "df2=pd.DataFrame([])\n",
    "df2[['feature_' + str(x) for x in range(0,len(df.iloc[0,0]))]]=df[['features']].apply(lambda y:pd.Series(y[0]),result_type='expand',axis=1)"
   ]
  },
  {
   "cell_type": "code",
   "execution_count": 8,
   "metadata": {},
   "outputs": [
    {
     "output_type": "execute_result",
     "data": {
      "text/plain": [
       "     feature_0  feature_1  feature_2  feature_3  feature_4  feature_5  \\\n",
       "0            3          6          4         13          2          5   \n",
       "1            4          4          2          6          1          2   \n",
       "2            4         24          4         20          1          3   \n",
       "3            4         18          2         11          5          2   \n",
       "4            4          6          2         13          3          3   \n",
       "..         ...        ...        ...        ...        ...        ...   \n",
       "995          1          6          2         12          2          5   \n",
       "996          4         36          4         35          1          4   \n",
       "997          4         24          4         26          1          5   \n",
       "998          1          8          4          7          1          5   \n",
       "999          4         21          2         16          4          5   \n",
       "\n",
       "     feature_6  feature_7  feature_8  feature_9  ...  feature_14  feature_15  \\\n",
       "0            1          4          3         28  ...           1           1   \n",
       "1            2          3          1         23  ...           1           0   \n",
       "2            2          4          3         37  ...           1           1   \n",
       "3            2          2          1         21  ...           1           0   \n",
       "4            1          4          1         62  ...           1           0   \n",
       "..         ...        ...        ...        ...  ...         ...         ...   \n",
       "995          3          2          2         43  ...           1           1   \n",
       "996          3          4          3         37  ...           1           1   \n",
       "997          4          3          1         46  ...           1           0   \n",
       "998          3          4          1         47  ...           1           1   \n",
       "999          2          4          1         36  ...           1           0   \n",
       "\n",
       "     feature_16  feature_17  feature_18  feature_19  feature_20  feature_21  \\\n",
       "0             0           1           0           0           1           0   \n",
       "1             0           1           0           1           0           0   \n",
       "2             0           1           0           0           1           0   \n",
       "3             0           1           0           1           0           0   \n",
       "4             0           1           0           0           1           0   \n",
       "..          ...         ...         ...         ...         ...         ...   \n",
       "995           0           1           0           0           1           0   \n",
       "996           0           1           0           0           1           0   \n",
       "997           0           0           1           0           1           0   \n",
       "998           0           1           0           0           1           0   \n",
       "999           0           1           0           0           1           0   \n",
       "\n",
       "     feature_22  feature_23  \n",
       "0             0           1  \n",
       "1             1           0  \n",
       "2             0           1  \n",
       "3             0           1  \n",
       "4             0           1  \n",
       "..          ...         ...  \n",
       "995           0           1  \n",
       "996           0           1  \n",
       "997           0           1  \n",
       "998           1           0  \n",
       "999           1           0  \n",
       "\n",
       "[1000 rows x 24 columns]"
      ],
      "text/html": "<div>\n<style scoped>\n    .dataframe tbody tr th:only-of-type {\n        vertical-align: middle;\n    }\n\n    .dataframe tbody tr th {\n        vertical-align: top;\n    }\n\n    .dataframe thead th {\n        text-align: right;\n    }\n</style>\n<table border=\"1\" class=\"dataframe\">\n  <thead>\n    <tr style=\"text-align: right;\">\n      <th></th>\n      <th>feature_0</th>\n      <th>feature_1</th>\n      <th>feature_2</th>\n      <th>feature_3</th>\n      <th>feature_4</th>\n      <th>feature_5</th>\n      <th>feature_6</th>\n      <th>feature_7</th>\n      <th>feature_8</th>\n      <th>feature_9</th>\n      <th>...</th>\n      <th>feature_14</th>\n      <th>feature_15</th>\n      <th>feature_16</th>\n      <th>feature_17</th>\n      <th>feature_18</th>\n      <th>feature_19</th>\n      <th>feature_20</th>\n      <th>feature_21</th>\n      <th>feature_22</th>\n      <th>feature_23</th>\n    </tr>\n  </thead>\n  <tbody>\n    <tr>\n      <th>0</th>\n      <td>3</td>\n      <td>6</td>\n      <td>4</td>\n      <td>13</td>\n      <td>2</td>\n      <td>5</td>\n      <td>1</td>\n      <td>4</td>\n      <td>3</td>\n      <td>28</td>\n      <td>...</td>\n      <td>1</td>\n      <td>1</td>\n      <td>0</td>\n      <td>1</td>\n      <td>0</td>\n      <td>0</td>\n      <td>1</td>\n      <td>0</td>\n      <td>0</td>\n      <td>1</td>\n    </tr>\n    <tr>\n      <th>1</th>\n      <td>4</td>\n      <td>4</td>\n      <td>2</td>\n      <td>6</td>\n      <td>1</td>\n      <td>2</td>\n      <td>2</td>\n      <td>3</td>\n      <td>1</td>\n      <td>23</td>\n      <td>...</td>\n      <td>1</td>\n      <td>0</td>\n      <td>0</td>\n      <td>1</td>\n      <td>0</td>\n      <td>1</td>\n      <td>0</td>\n      <td>0</td>\n      <td>1</td>\n      <td>0</td>\n    </tr>\n    <tr>\n      <th>2</th>\n      <td>4</td>\n      <td>24</td>\n      <td>4</td>\n      <td>20</td>\n      <td>1</td>\n      <td>3</td>\n      <td>2</td>\n      <td>4</td>\n      <td>3</td>\n      <td>37</td>\n      <td>...</td>\n      <td>1</td>\n      <td>1</td>\n      <td>0</td>\n      <td>1</td>\n      <td>0</td>\n      <td>0</td>\n      <td>1</td>\n      <td>0</td>\n      <td>0</td>\n      <td>1</td>\n    </tr>\n    <tr>\n      <th>3</th>\n      <td>4</td>\n      <td>18</td>\n      <td>2</td>\n      <td>11</td>\n      <td>5</td>\n      <td>2</td>\n      <td>2</td>\n      <td>2</td>\n      <td>1</td>\n      <td>21</td>\n      <td>...</td>\n      <td>1</td>\n      <td>0</td>\n      <td>0</td>\n      <td>1</td>\n      <td>0</td>\n      <td>1</td>\n      <td>0</td>\n      <td>0</td>\n      <td>0</td>\n      <td>1</td>\n    </tr>\n    <tr>\n      <th>4</th>\n      <td>4</td>\n      <td>6</td>\n      <td>2</td>\n      <td>13</td>\n      <td>3</td>\n      <td>3</td>\n      <td>1</td>\n      <td>4</td>\n      <td>1</td>\n      <td>62</td>\n      <td>...</td>\n      <td>1</td>\n      <td>0</td>\n      <td>0</td>\n      <td>1</td>\n      <td>0</td>\n      <td>0</td>\n      <td>1</td>\n      <td>0</td>\n      <td>0</td>\n      <td>1</td>\n    </tr>\n    <tr>\n      <th>...</th>\n      <td>...</td>\n      <td>...</td>\n      <td>...</td>\n      <td>...</td>\n      <td>...</td>\n      <td>...</td>\n      <td>...</td>\n      <td>...</td>\n      <td>...</td>\n      <td>...</td>\n      <td>...</td>\n      <td>...</td>\n      <td>...</td>\n      <td>...</td>\n      <td>...</td>\n      <td>...</td>\n      <td>...</td>\n      <td>...</td>\n      <td>...</td>\n      <td>...</td>\n      <td>...</td>\n    </tr>\n    <tr>\n      <th>995</th>\n      <td>1</td>\n      <td>6</td>\n      <td>2</td>\n      <td>12</td>\n      <td>2</td>\n      <td>5</td>\n      <td>3</td>\n      <td>2</td>\n      <td>2</td>\n      <td>43</td>\n      <td>...</td>\n      <td>1</td>\n      <td>1</td>\n      <td>0</td>\n      <td>1</td>\n      <td>0</td>\n      <td>0</td>\n      <td>1</td>\n      <td>0</td>\n      <td>0</td>\n      <td>1</td>\n    </tr>\n    <tr>\n      <th>996</th>\n      <td>4</td>\n      <td>36</td>\n      <td>4</td>\n      <td>35</td>\n      <td>1</td>\n      <td>4</td>\n      <td>3</td>\n      <td>4</td>\n      <td>3</td>\n      <td>37</td>\n      <td>...</td>\n      <td>1</td>\n      <td>1</td>\n      <td>0</td>\n      <td>1</td>\n      <td>0</td>\n      <td>0</td>\n      <td>1</td>\n      <td>0</td>\n      <td>0</td>\n      <td>1</td>\n    </tr>\n    <tr>\n      <th>997</th>\n      <td>4</td>\n      <td>24</td>\n      <td>4</td>\n      <td>26</td>\n      <td>1</td>\n      <td>5</td>\n      <td>4</td>\n      <td>3</td>\n      <td>1</td>\n      <td>46</td>\n      <td>...</td>\n      <td>1</td>\n      <td>0</td>\n      <td>0</td>\n      <td>0</td>\n      <td>1</td>\n      <td>0</td>\n      <td>1</td>\n      <td>0</td>\n      <td>0</td>\n      <td>1</td>\n    </tr>\n    <tr>\n      <th>998</th>\n      <td>1</td>\n      <td>8</td>\n      <td>4</td>\n      <td>7</td>\n      <td>1</td>\n      <td>5</td>\n      <td>3</td>\n      <td>4</td>\n      <td>1</td>\n      <td>47</td>\n      <td>...</td>\n      <td>1</td>\n      <td>1</td>\n      <td>0</td>\n      <td>1</td>\n      <td>0</td>\n      <td>0</td>\n      <td>1</td>\n      <td>0</td>\n      <td>1</td>\n      <td>0</td>\n    </tr>\n    <tr>\n      <th>999</th>\n      <td>4</td>\n      <td>21</td>\n      <td>2</td>\n      <td>16</td>\n      <td>4</td>\n      <td>5</td>\n      <td>2</td>\n      <td>4</td>\n      <td>1</td>\n      <td>36</td>\n      <td>...</td>\n      <td>1</td>\n      <td>0</td>\n      <td>0</td>\n      <td>1</td>\n      <td>0</td>\n      <td>0</td>\n      <td>1</td>\n      <td>0</td>\n      <td>1</td>\n      <td>0</td>\n    </tr>\n  </tbody>\n</table>\n<p>1000 rows × 24 columns</p>\n</div>"
     },
     "metadata": {},
     "execution_count": 8
    }
   ],
   "source": [
    "df2"
   ]
  },
  {
   "cell_type": "code",
   "execution_count": 9,
   "metadata": {},
   "outputs": [],
   "source": [
    "X_train, X_test, y_train, y_test = train_test_split(df2,df['label'], test_size=0.20, random_state=42)"
   ]
  },
  {
   "cell_type": "code",
   "execution_count": 10,
   "metadata": {},
   "outputs": [
    {
     "output_type": "stream",
     "name": "stdout",
     "text": [
      "Model: \"model\"\n__________________________________________________________________________________________________\nLayer (type)                    Output Shape         Param #     Connected to                     \n==================================================================================================\nfeatures (InputLayer)           [(None, 24)]         0                                            \n__________________________________________________________________________________________________\nbatch_normalization (BatchNorma (None, 24)           96          features[0][0]                   \n__________________________________________________________________________________________________\ndense (Dense)                   (None, 64)           1600        batch_normalization[0][0]        \n__________________________________________________________________________________________________\nbatch_normalization_1 (BatchNor (None, 64)           256         dense[0][0]                      \n__________________________________________________________________________________________________\nactivation (Activation)         (None, 64)           0           batch_normalization_1[0][0]      \n__________________________________________________________________________________________________\ndropout (Dropout)               (None, 64)           0           activation[0][0]                 \n__________________________________________________________________________________________________\nconcatenate (Concatenate)       (None, 88)           0           dropout[0][0]                    \n                                                                 batch_normalization[0][0]        \n__________________________________________________________________________________________________\nsurvived (Dense)                (None, 1)            89          concatenate[0][0]                \n==================================================================================================\nTotal params: 2,041\nTrainable params: 1,865\nNon-trainable params: 176\n__________________________________________________________________________________________________\n"
     ]
    }
   ],
   "source": [
    "inpt=Input(24,name='features')\n",
    "x1=BatchNormalization()(inpt)\n",
    "\n",
    "x=Dense(64)(x1)\n",
    "x=BatchNormalization()(x)\n",
    "x=Activation(activation='relu')(x)\n",
    "x=Dropout(0.2)(x)\n",
    "\n",
    "# x=Dense(32)(x)\n",
    "# x=BatchNormalization()(x)\n",
    "# x=Activation(activation='swish')(x)\n",
    "# x=Dropout(0.2)(x)\n",
    "\n",
    "x=Concatenate()([x,x1])\n",
    "\n",
    "x=Dense(1,activation='sigmoid',name='survived')(x)\n",
    "model=Model(inputs=inpt,outputs=x)\n",
    "model.compile(loss=\"binary_crossentropy\",\n",
    "              optimizer=tf.keras.optimizers.Adam(learning_rate=.0001),\n",
    "              metrics=[tf.keras.metrics.AUC(num_thresholds=200, curve='ROC'),tf.keras.metrics.PrecisionAtRecall(1, num_thresholds=200, name=None, dtype=None),'accuracy'])\n",
    "model.summary()"
   ]
  },
  {
   "cell_type": "code",
   "execution_count": 11,
   "metadata": {},
   "outputs": [],
   "source": [
    "X_train_ds=tf.data.Dataset.from_tensor_slices((tf.constant(X_train.astype('float32')),tf.constant(y_train.astype('float32')))).batch(100).prefetch(1)\n",
    "X_test_ds=tf.data.Dataset.from_tensor_slices((tf.constant(X_test.astype('float32')),tf.constant(y_test.astype('float32')))).batch(100).prefetch(1)"
   ]
  },
  {
   "cell_type": "code",
   "execution_count": 12,
   "metadata": {
    "tags": []
   },
   "outputs": [
    {
     "output_type": "stream",
     "name": "stdout",
     "text": [
      "Epoch 1/97\n",
      "8/8 [==============================] - 3s 223ms/step - loss: 1.0043 - auc: 0.4982 - precision_at_recall: 0.7006 - accuracy: 0.3783 - val_loss: 3.1951 - val_auc: 0.4803 - val_precision_at_recall: 0.7000 - val_accuracy: 0.3000\n",
      "Epoch 2/97\n",
      "8/8 [==============================] - 0s 39ms/step - loss: 1.0058 - auc: 0.4746 - precision_at_recall: 0.7017 - accuracy: 0.3792 - val_loss: 2.0866 - val_auc: 0.4883 - val_precision_at_recall: 0.7000 - val_accuracy: 0.3050\n",
      "Epoch 3/97\n",
      "8/8 [==============================] - 0s 17ms/step - loss: 0.9797 - auc: 0.4836 - precision_at_recall: 0.6985 - accuracy: 0.4000 - val_loss: 1.6090 - val_auc: 0.4895 - val_precision_at_recall: 0.7000 - val_accuracy: 0.2850\n",
      "Epoch 4/97\n",
      "8/8 [==============================] - 0s 17ms/step - loss: 0.9780 - auc: 0.4998 - precision_at_recall: 0.6998 - accuracy: 0.3959 - val_loss: 1.3430 - val_auc: 0.4886 - val_precision_at_recall: 0.7000 - val_accuracy: 0.2900\n",
      "Epoch 5/97\n",
      "8/8 [==============================] - 0s 17ms/step - loss: 0.9790 - auc: 0.4963 - precision_at_recall: 0.6994 - accuracy: 0.4384 - val_loss: 1.1758 - val_auc: 0.4926 - val_precision_at_recall: 0.7000 - val_accuracy: 0.2950\n",
      "Epoch 6/97\n",
      "8/8 [==============================] - 0s 17ms/step - loss: 0.9365 - auc: 0.5199 - precision_at_recall: 0.7025 - accuracy: 0.4283 - val_loss: 1.0635 - val_auc: 0.5002 - val_precision_at_recall: 0.7000 - val_accuracy: 0.3200\n",
      "Epoch 7/97\n",
      "8/8 [==============================] - 0s 17ms/step - loss: 0.9363 - auc: 0.5166 - precision_at_recall: 0.7000 - accuracy: 0.4218 - val_loss: 0.9839 - val_auc: 0.5045 - val_precision_at_recall: 0.7000 - val_accuracy: 0.3350\n",
      "Epoch 8/97\n",
      "8/8 [==============================] - 0s 17ms/step - loss: 0.9240 - auc: 0.5217 - precision_at_recall: 0.7007 - accuracy: 0.4235 - val_loss: 0.9253 - val_auc: 0.5091 - val_precision_at_recall: 0.7000 - val_accuracy: 0.3800\n",
      "Epoch 9/97\n",
      "8/8 [==============================] - 0s 17ms/step - loss: 0.9061 - auc: 0.5283 - precision_at_recall: 0.7006 - accuracy: 0.4144 - val_loss: 0.8808 - val_auc: 0.5144 - val_precision_at_recall: 0.7000 - val_accuracy: 0.4050\n",
      "Epoch 10/97\n",
      "8/8 [==============================] - 0s 17ms/step - loss: 0.8878 - auc: 0.5216 - precision_at_recall: 0.7016 - accuracy: 0.4473 - val_loss: 0.8462 - val_auc: 0.5206 - val_precision_at_recall: 0.7000 - val_accuracy: 0.4300\n",
      "Epoch 11/97\n",
      "8/8 [==============================] - 0s 16ms/step - loss: 0.8656 - auc: 0.5231 - precision_at_recall: 0.7025 - accuracy: 0.4328 - val_loss: 0.8187 - val_auc: 0.5270 - val_precision_at_recall: 0.7000 - val_accuracy: 0.4300\n",
      "Epoch 12/97\n",
      "8/8 [==============================] - 0s 17ms/step - loss: 0.8861 - auc: 0.5154 - precision_at_recall: 0.7005 - accuracy: 0.4283 - val_loss: 0.7963 - val_auc: 0.5326 - val_precision_at_recall: 0.7000 - val_accuracy: 0.4850\n",
      "Epoch 13/97\n",
      "8/8 [==============================] - 0s 16ms/step - loss: 0.8723 - auc: 0.5261 - precision_at_recall: 0.7010 - accuracy: 0.4478 - val_loss: 0.7778 - val_auc: 0.5381 - val_precision_at_recall: 0.7000 - val_accuracy: 0.5000\n",
      "Epoch 14/97\n",
      "8/8 [==============================] - 0s 17ms/step - loss: 0.8555 - auc: 0.5319 - precision_at_recall: 0.6996 - accuracy: 0.4672 - val_loss: 0.7623 - val_auc: 0.5415 - val_precision_at_recall: 0.7000 - val_accuracy: 0.5200\n",
      "Epoch 15/97\n",
      "8/8 [==============================] - 0s 17ms/step - loss: 0.8448 - auc: 0.5417 - precision_at_recall: 0.7011 - accuracy: 0.4782 - val_loss: 0.7488 - val_auc: 0.5486 - val_precision_at_recall: 0.7000 - val_accuracy: 0.5400\n",
      "Epoch 16/97\n",
      "8/8 [==============================] - 0s 17ms/step - loss: 0.8332 - auc: 0.5567 - precision_at_recall: 0.7002 - accuracy: 0.4661 - val_loss: 0.7373 - val_auc: 0.5539 - val_precision_at_recall: 0.7000 - val_accuracy: 0.5600\n",
      "Epoch 17/97\n",
      "8/8 [==============================] - 0s 16ms/step - loss: 0.8339 - auc: 0.5591 - precision_at_recall: 0.7001 - accuracy: 0.4917 - val_loss: 0.7271 - val_auc: 0.5592 - val_precision_at_recall: 0.7000 - val_accuracy: 0.5700\n",
      "Epoch 18/97\n",
      "8/8 [==============================] - 0s 17ms/step - loss: 0.8039 - auc: 0.5650 - precision_at_recall: 0.7008 - accuracy: 0.5077 - val_loss: 0.7183 - val_auc: 0.5652 - val_precision_at_recall: 0.7000 - val_accuracy: 0.5750\n",
      "Epoch 19/97\n",
      "8/8 [==============================] - 0s 17ms/step - loss: 0.8113 - auc: 0.5496 - precision_at_recall: 0.7002 - accuracy: 0.5200 - val_loss: 0.7102 - val_auc: 0.5719 - val_precision_at_recall: 0.7000 - val_accuracy: 0.5850\n",
      "Epoch 20/97\n",
      "8/8 [==============================] - 0s 17ms/step - loss: 0.8018 - auc: 0.5536 - precision_at_recall: 0.7004 - accuracy: 0.4983 - val_loss: 0.7028 - val_auc: 0.5787 - val_precision_at_recall: 0.7000 - val_accuracy: 0.6050\n",
      "Epoch 21/97\n",
      "8/8 [==============================] - 0s 17ms/step - loss: 0.7715 - auc: 0.5816 - precision_at_recall: 0.7012 - accuracy: 0.5188 - val_loss: 0.6959 - val_auc: 0.5848 - val_precision_at_recall: 0.7000 - val_accuracy: 0.6200\n",
      "Epoch 22/97\n",
      "8/8 [==============================] - 0s 17ms/step - loss: 0.7876 - auc: 0.5554 - precision_at_recall: 0.7032 - accuracy: 0.4965 - val_loss: 0.6895 - val_auc: 0.5924 - val_precision_at_recall: 0.7000 - val_accuracy: 0.6300\n",
      "Epoch 23/97\n",
      "8/8 [==============================] - 0s 17ms/step - loss: 0.7650 - auc: 0.5751 - precision_at_recall: 0.6999 - accuracy: 0.5392 - val_loss: 0.6837 - val_auc: 0.6001 - val_precision_at_recall: 0.7000 - val_accuracy: 0.6300\n",
      "Epoch 24/97\n",
      "8/8 [==============================] - 0s 17ms/step - loss: 0.7517 - auc: 0.5788 - precision_at_recall: 0.7023 - accuracy: 0.5394 - val_loss: 0.6783 - val_auc: 0.6053 - val_precision_at_recall: 0.7000 - val_accuracy: 0.6400\n",
      "Epoch 25/97\n",
      "8/8 [==============================] - 0s 17ms/step - loss: 0.7531 - auc: 0.5911 - precision_at_recall: 0.7017 - accuracy: 0.5632 - val_loss: 0.6730 - val_auc: 0.6121 - val_precision_at_recall: 0.7000 - val_accuracy: 0.6500\n",
      "Epoch 26/97\n",
      "8/8 [==============================] - 0s 17ms/step - loss: 0.7515 - auc: 0.5788 - precision_at_recall: 0.7013 - accuracy: 0.5166 - val_loss: 0.6683 - val_auc: 0.6185 - val_precision_at_recall: 0.7000 - val_accuracy: 0.6450\n",
      "Epoch 27/97\n",
      "8/8 [==============================] - 0s 16ms/step - loss: 0.7318 - auc: 0.6044 - precision_at_recall: 0.7020 - accuracy: 0.5816 - val_loss: 0.6637 - val_auc: 0.6257 - val_precision_at_recall: 0.7000 - val_accuracy: 0.6600\n",
      "Epoch 28/97\n",
      "8/8 [==============================] - 0s 17ms/step - loss: 0.7206 - auc: 0.6160 - precision_at_recall: 0.7009 - accuracy: 0.5930 - val_loss: 0.6594 - val_auc: 0.6304 - val_precision_at_recall: 0.7000 - val_accuracy: 0.6700\n",
      "Epoch 29/97\n",
      "8/8 [==============================] - 0s 17ms/step - loss: 0.7224 - auc: 0.6019 - precision_at_recall: 0.6996 - accuracy: 0.5816 - val_loss: 0.6554 - val_auc: 0.6324 - val_precision_at_recall: 0.7000 - val_accuracy: 0.6750\n",
      "Epoch 30/97\n",
      "8/8 [==============================] - 0s 16ms/step - loss: 0.7025 - auc: 0.6268 - precision_at_recall: 0.7010 - accuracy: 0.5787 - val_loss: 0.6515 - val_auc: 0.6373 - val_precision_at_recall: 0.7000 - val_accuracy: 0.6750\n",
      "Epoch 31/97\n",
      "8/8 [==============================] - 0s 17ms/step - loss: 0.7131 - auc: 0.6129 - precision_at_recall: 0.6985 - accuracy: 0.5804 - val_loss: 0.6477 - val_auc: 0.6414 - val_precision_at_recall: 0.7000 - val_accuracy: 0.6850\n",
      "Epoch 32/97\n",
      "8/8 [==============================] - 0s 17ms/step - loss: 0.7018 - auc: 0.6081 - precision_at_recall: 0.6996 - accuracy: 0.5925 - val_loss: 0.6441 - val_auc: 0.6465 - val_precision_at_recall: 0.7000 - val_accuracy: 0.6850\n",
      "Epoch 33/97\n",
      "8/8 [==============================] - 0s 17ms/step - loss: 0.6756 - auc: 0.6408 - precision_at_recall: 0.7025 - accuracy: 0.6291 - val_loss: 0.6407 - val_auc: 0.6504 - val_precision_at_recall: 0.7000 - val_accuracy: 0.6900\n",
      "Epoch 34/97\n",
      "8/8 [==============================] - 0s 17ms/step - loss: 0.6821 - auc: 0.6424 - precision_at_recall: 0.7001 - accuracy: 0.6245 - val_loss: 0.6373 - val_auc: 0.6571 - val_precision_at_recall: 0.7000 - val_accuracy: 0.6950\n",
      "Epoch 35/97\n",
      "8/8 [==============================] - 0s 17ms/step - loss: 0.6784 - auc: 0.6392 - precision_at_recall: 0.7007 - accuracy: 0.6020 - val_loss: 0.6340 - val_auc: 0.6605 - val_precision_at_recall: 0.7000 - val_accuracy: 0.6850\n",
      "Epoch 36/97\n",
      "8/8 [==============================] - 0s 17ms/step - loss: 0.6808 - auc: 0.6314 - precision_at_recall: 0.7000 - accuracy: 0.5997 - val_loss: 0.6307 - val_auc: 0.6648 - val_precision_at_recall: 0.7000 - val_accuracy: 0.6850\n",
      "Epoch 37/97\n",
      "8/8 [==============================] - 0s 17ms/step - loss: 0.6756 - auc: 0.6362 - precision_at_recall: 0.6993 - accuracy: 0.6360 - val_loss: 0.6275 - val_auc: 0.6692 - val_precision_at_recall: 0.7000 - val_accuracy: 0.6850\n",
      "Epoch 38/97\n",
      "8/8 [==============================] - 0s 17ms/step - loss: 0.6633 - auc: 0.6412 - precision_at_recall: 0.6996 - accuracy: 0.6300 - val_loss: 0.6243 - val_auc: 0.6720 - val_precision_at_recall: 0.7000 - val_accuracy: 0.7000\n",
      "Epoch 39/97\n",
      "8/8 [==============================] - 0s 17ms/step - loss: 0.6477 - auc: 0.6523 - precision_at_recall: 0.7008 - accuracy: 0.6344 - val_loss: 0.6213 - val_auc: 0.6783 - val_precision_at_recall: 0.7000 - val_accuracy: 0.7050\n",
      "Epoch 40/97\n",
      "8/8 [==============================] - 0s 19ms/step - loss: 0.6530 - auc: 0.6403 - precision_at_recall: 0.6999 - accuracy: 0.6431 - val_loss: 0.6184 - val_auc: 0.6805 - val_precision_at_recall: 0.7000 - val_accuracy: 0.7050\n",
      "Epoch 41/97\n",
      "8/8 [==============================] - 0s 17ms/step - loss: 0.6635 - auc: 0.6440 - precision_at_recall: 0.6985 - accuracy: 0.6296 - val_loss: 0.6156 - val_auc: 0.6835 - val_precision_at_recall: 0.7000 - val_accuracy: 0.7050\n",
      "Epoch 42/97\n",
      "8/8 [==============================] - 0s 17ms/step - loss: 0.6427 - auc: 0.6570 - precision_at_recall: 0.7017 - accuracy: 0.6440 - val_loss: 0.6127 - val_auc: 0.6857 - val_precision_at_recall: 0.7000 - val_accuracy: 0.7050\n",
      "Epoch 43/97\n",
      "8/8 [==============================] - 0s 17ms/step - loss: 0.6472 - auc: 0.6530 - precision_at_recall: 0.7069 - accuracy: 0.6427 - val_loss: 0.6099 - val_auc: 0.6880 - val_precision_at_recall: 0.7000 - val_accuracy: 0.7050\n",
      "Epoch 44/97\n",
      "8/8 [==============================] - 0s 17ms/step - loss: 0.6334 - auc: 0.6631 - precision_at_recall: 0.6988 - accuracy: 0.6526 - val_loss: 0.6072 - val_auc: 0.6914 - val_precision_at_recall: 0.7000 - val_accuracy: 0.7150\n",
      "Epoch 45/97\n",
      "8/8 [==============================] - 0s 17ms/step - loss: 0.6373 - auc: 0.6553 - precision_at_recall: 0.6993 - accuracy: 0.6461 - val_loss: 0.6045 - val_auc: 0.6957 - val_precision_at_recall: 0.7000 - val_accuracy: 0.7150\n",
      "Epoch 46/97\n",
      "8/8 [==============================] - 0s 17ms/step - loss: 0.6395 - auc: 0.6560 - precision_at_recall: 0.6998 - accuracy: 0.6434 - val_loss: 0.6018 - val_auc: 0.6994 - val_precision_at_recall: 0.7000 - val_accuracy: 0.7150\n",
      "Epoch 47/97\n",
      "8/8 [==============================] - 0s 17ms/step - loss: 0.6233 - auc: 0.6696 - precision_at_recall: 0.7028 - accuracy: 0.6652 - val_loss: 0.5992 - val_auc: 0.7027 - val_precision_at_recall: 0.7000 - val_accuracy: 0.7250\n",
      "Epoch 48/97\n",
      "8/8 [==============================] - 0s 38ms/step - loss: 0.6444 - auc: 0.6421 - precision_at_recall: 0.7002 - accuracy: 0.6414 - val_loss: 0.5967 - val_auc: 0.7048 - val_precision_at_recall: 0.7000 - val_accuracy: 0.7250\n",
      "Epoch 49/97\n",
      "8/8 [==============================] - 0s 18ms/step - loss: 0.6549 - auc: 0.6271 - precision_at_recall: 0.6989 - accuracy: 0.6544 - val_loss: 0.5942 - val_auc: 0.7070 - val_precision_at_recall: 0.7000 - val_accuracy: 0.7250\n",
      "Epoch 50/97\n",
      "8/8 [==============================] - 0s 17ms/step - loss: 0.6082 - auc: 0.6830 - precision_at_recall: 0.7025 - accuracy: 0.6764 - val_loss: 0.5917 - val_auc: 0.7080 - val_precision_at_recall: 0.7000 - val_accuracy: 0.7300\n",
      "Epoch 51/97\n",
      "8/8 [==============================] - 0s 17ms/step - loss: 0.5929 - auc: 0.6925 - precision_at_recall: 0.7049 - accuracy: 0.6865 - val_loss: 0.5893 - val_auc: 0.7112 - val_precision_at_recall: 0.7000 - val_accuracy: 0.7300\n",
      "Epoch 52/97\n",
      "8/8 [==============================] - 0s 18ms/step - loss: 0.5989 - auc: 0.6892 - precision_at_recall: 0.7008 - accuracy: 0.6947 - val_loss: 0.5869 - val_auc: 0.7129 - val_precision_at_recall: 0.7000 - val_accuracy: 0.7450\n",
      "Epoch 53/97\n",
      "8/8 [==============================] - 0s 17ms/step - loss: 0.6131 - auc: 0.6722 - precision_at_recall: 0.7007 - accuracy: 0.6765 - val_loss: 0.5847 - val_auc: 0.7148 - val_precision_at_recall: 0.7000 - val_accuracy: 0.7450\n",
      "Epoch 54/97\n",
      "8/8 [==============================] - 0s 16ms/step - loss: 0.6030 - auc: 0.6746 - precision_at_recall: 0.7031 - accuracy: 0.6927 - val_loss: 0.5824 - val_auc: 0.7167 - val_precision_at_recall: 0.7000 - val_accuracy: 0.7450\n",
      "Epoch 55/97\n",
      "8/8 [==============================] - 0s 17ms/step - loss: 0.5992 - auc: 0.7035 - precision_at_recall: 0.6985 - accuracy: 0.7048 - val_loss: 0.5802 - val_auc: 0.7188 - val_precision_at_recall: 0.7000 - val_accuracy: 0.7450\n",
      "Epoch 56/97\n",
      "8/8 [==============================] - 0s 17ms/step - loss: 0.5942 - auc: 0.6913 - precision_at_recall: 0.7037 - accuracy: 0.7050 - val_loss: 0.5781 - val_auc: 0.7207 - val_precision_at_recall: 0.7000 - val_accuracy: 0.7450\n",
      "Epoch 57/97\n",
      "8/8 [==============================] - 0s 17ms/step - loss: 0.5944 - auc: 0.6987 - precision_at_recall: 0.7027 - accuracy: 0.6788 - val_loss: 0.5760 - val_auc: 0.7234 - val_precision_at_recall: 0.7000 - val_accuracy: 0.7500\n",
      "Epoch 58/97\n",
      "8/8 [==============================] - 0s 17ms/step - loss: 0.5878 - auc: 0.7141 - precision_at_recall: 0.6994 - accuracy: 0.6941 - val_loss: 0.5739 - val_auc: 0.7257 - val_precision_at_recall: 0.7000 - val_accuracy: 0.7550\n",
      "Epoch 59/97\n",
      "8/8 [==============================] - 0s 17ms/step - loss: 0.5948 - auc: 0.6800 - precision_at_recall: 0.7040 - accuracy: 0.6698 - val_loss: 0.5719 - val_auc: 0.7277 - val_precision_at_recall: 0.7000 - val_accuracy: 0.7550\n",
      "Epoch 60/97\n",
      "8/8 [==============================] - 0s 17ms/step - loss: 0.5924 - auc: 0.6972 - precision_at_recall: 0.6998 - accuracy: 0.6941 - val_loss: 0.5699 - val_auc: 0.7298 - val_precision_at_recall: 0.7000 - val_accuracy: 0.7550\n",
      "Epoch 61/97\n",
      "8/8 [==============================] - 0s 17ms/step - loss: 0.5800 - auc: 0.7121 - precision_at_recall: 0.6994 - accuracy: 0.6850 - val_loss: 0.5680 - val_auc: 0.7321 - val_precision_at_recall: 0.7000 - val_accuracy: 0.7550\n",
      "Epoch 62/97\n",
      "8/8 [==============================] - 0s 16ms/step - loss: 0.5646 - auc: 0.7287 - precision_at_recall: 0.7060 - accuracy: 0.7117 - val_loss: 0.5661 - val_auc: 0.7345 - val_precision_at_recall: 0.7000 - val_accuracy: 0.7550\n",
      "Epoch 63/97\n",
      "8/8 [==============================] - 0s 18ms/step - loss: 0.5716 - auc: 0.7241 - precision_at_recall: 0.7025 - accuracy: 0.7114 - val_loss: 0.5643 - val_auc: 0.7357 - val_precision_at_recall: 0.7000 - val_accuracy: 0.7600\n",
      "Epoch 64/97\n",
      "8/8 [==============================] - 0s 17ms/step - loss: 0.5698 - auc: 0.7118 - precision_at_recall: 0.7020 - accuracy: 0.7086 - val_loss: 0.5625 - val_auc: 0.7383 - val_precision_at_recall: 0.7000 - val_accuracy: 0.7700\n",
      "Epoch 65/97\n",
      "8/8 [==============================] - 0s 17ms/step - loss: 0.5732 - auc: 0.7040 - precision_at_recall: 0.7025 - accuracy: 0.7050 - val_loss: 0.5607 - val_auc: 0.7403 - val_precision_at_recall: 0.7035 - val_accuracy: 0.7700\n",
      "Epoch 66/97\n",
      "8/8 [==============================] - 0s 17ms/step - loss: 0.5822 - auc: 0.6981 - precision_at_recall: 0.7048 - accuracy: 0.6897 - val_loss: 0.5590 - val_auc: 0.7412 - val_precision_at_recall: 0.7035 - val_accuracy: 0.7750\n",
      "Epoch 67/97\n",
      "8/8 [==============================] - 0s 18ms/step - loss: 0.5771 - auc: 0.7066 - precision_at_recall: 0.7021 - accuracy: 0.7083 - val_loss: 0.5573 - val_auc: 0.7420 - val_precision_at_recall: 0.7035 - val_accuracy: 0.7750\n",
      "Epoch 68/97\n",
      "8/8 [==============================] - 0s 18ms/step - loss: 0.5738 - auc: 0.7144 - precision_at_recall: 0.6985 - accuracy: 0.7007 - val_loss: 0.5557 - val_auc: 0.7440 - val_precision_at_recall: 0.7035 - val_accuracy: 0.7700\n",
      "Epoch 69/97\n",
      "8/8 [==============================] - 0s 19ms/step - loss: 0.5495 - auc: 0.7342 - precision_at_recall: 0.7024 - accuracy: 0.7062 - val_loss: 0.5541 - val_auc: 0.7454 - val_precision_at_recall: 0.7035 - val_accuracy: 0.7650\n",
      "Epoch 70/97\n",
      "8/8 [==============================] - 0s 17ms/step - loss: 0.5570 - auc: 0.7292 - precision_at_recall: 0.7021 - accuracy: 0.7211 - val_loss: 0.5526 - val_auc: 0.7457 - val_precision_at_recall: 0.7035 - val_accuracy: 0.7750\n",
      "Epoch 71/97\n",
      "8/8 [==============================] - 0s 17ms/step - loss: 0.5552 - auc: 0.7263 - precision_at_recall: 0.7011 - accuracy: 0.7151 - val_loss: 0.5511 - val_auc: 0.7471 - val_precision_at_recall: 0.7035 - val_accuracy: 0.7750\n",
      "Epoch 72/97\n",
      "8/8 [==============================] - 0s 17ms/step - loss: 0.5426 - auc: 0.7404 - precision_at_recall: 0.7052 - accuracy: 0.7354 - val_loss: 0.5496 - val_auc: 0.7487 - val_precision_at_recall: 0.7035 - val_accuracy: 0.7700\n",
      "Epoch 73/97\n",
      "8/8 [==============================] - 0s 17ms/step - loss: 0.5533 - auc: 0.7320 - precision_at_recall: 0.7017 - accuracy: 0.7297 - val_loss: 0.5481 - val_auc: 0.7504 - val_precision_at_recall: 0.7035 - val_accuracy: 0.7700\n",
      "Epoch 74/97\n",
      "8/8 [==============================] - 0s 16ms/step - loss: 0.5392 - auc: 0.7504 - precision_at_recall: 0.7067 - accuracy: 0.7144 - val_loss: 0.5467 - val_auc: 0.7510 - val_precision_at_recall: 0.7035 - val_accuracy: 0.7700\n",
      "Epoch 75/97\n",
      "8/8 [==============================] - 0s 17ms/step - loss: 0.5475 - auc: 0.7378 - precision_at_recall: 0.7011 - accuracy: 0.7360 - val_loss: 0.5454 - val_auc: 0.7533 - val_precision_at_recall: 0.7035 - val_accuracy: 0.7700\n",
      "Epoch 76/97\n",
      "8/8 [==============================] - 0s 18ms/step - loss: 0.5504 - auc: 0.7418 - precision_at_recall: 0.7036 - accuracy: 0.7258 - val_loss: 0.5441 - val_auc: 0.7548 - val_precision_at_recall: 0.7035 - val_accuracy: 0.7700\n",
      "Epoch 77/97\n",
      "8/8 [==============================] - 0s 19ms/step - loss: 0.5453 - auc: 0.7414 - precision_at_recall: 0.7026 - accuracy: 0.7142 - val_loss: 0.5428 - val_auc: 0.7555 - val_precision_at_recall: 0.7035 - val_accuracy: 0.7700\n",
      "Epoch 78/97\n",
      "8/8 [==============================] - 0s 17ms/step - loss: 0.5425 - auc: 0.7401 - precision_at_recall: 0.7078 - accuracy: 0.7248 - val_loss: 0.5416 - val_auc: 0.7568 - val_precision_at_recall: 0.7035 - val_accuracy: 0.7700\n",
      "Epoch 79/97\n",
      "8/8 [==============================] - 0s 18ms/step - loss: 0.5522 - auc: 0.7263 - precision_at_recall: 0.7011 - accuracy: 0.7059 - val_loss: 0.5404 - val_auc: 0.7580 - val_precision_at_recall: 0.7035 - val_accuracy: 0.7650\n",
      "Epoch 80/97\n",
      "8/8 [==============================] - 0s 16ms/step - loss: 0.5436 - auc: 0.7409 - precision_at_recall: 0.7028 - accuracy: 0.7076 - val_loss: 0.5393 - val_auc: 0.7593 - val_precision_at_recall: 0.7035 - val_accuracy: 0.7600\n",
      "Epoch 81/97\n",
      "8/8 [==============================] - 0s 16ms/step - loss: 0.5517 - auc: 0.7227 - precision_at_recall: 0.7051 - accuracy: 0.7099 - val_loss: 0.5382 - val_auc: 0.7605 - val_precision_at_recall: 0.7035 - val_accuracy: 0.7600\n",
      "Epoch 82/97\n",
      "8/8 [==============================] - 0s 16ms/step - loss: 0.5396 - auc: 0.7452 - precision_at_recall: 0.7028 - accuracy: 0.7171 - val_loss: 0.5370 - val_auc: 0.7610 - val_precision_at_recall: 0.7035 - val_accuracy: 0.7600\n",
      "Epoch 83/97\n",
      "8/8 [==============================] - 0s 17ms/step - loss: 0.5549 - auc: 0.7213 - precision_at_recall: 0.7009 - accuracy: 0.7057 - val_loss: 0.5359 - val_auc: 0.7627 - val_precision_at_recall: 0.7035 - val_accuracy: 0.7500\n",
      "Epoch 84/97\n",
      "8/8 [==============================] - 0s 17ms/step - loss: 0.5400 - auc: 0.7392 - precision_at_recall: 0.7008 - accuracy: 0.7234 - val_loss: 0.5348 - val_auc: 0.7633 - val_precision_at_recall: 0.7035 - val_accuracy: 0.7550\n",
      "Epoch 85/97\n",
      "8/8 [==============================] - 0s 36ms/step - loss: 0.5203 - auc: 0.7619 - precision_at_recall: 0.7048 - accuracy: 0.7291 - val_loss: 0.5337 - val_auc: 0.7652 - val_precision_at_recall: 0.7035 - val_accuracy: 0.7550\n",
      "Epoch 86/97\n",
      "8/8 [==============================] - 0s 17ms/step - loss: 0.5489 - auc: 0.7361 - precision_at_recall: 0.7008 - accuracy: 0.7243 - val_loss: 0.5327 - val_auc: 0.7660 - val_precision_at_recall: 0.7035 - val_accuracy: 0.7550\n",
      "Epoch 87/97\n",
      "8/8 [==============================] - 0s 17ms/step - loss: 0.5331 - auc: 0.7481 - precision_at_recall: 0.7045 - accuracy: 0.7393 - val_loss: 0.5317 - val_auc: 0.7667 - val_precision_at_recall: 0.7035 - val_accuracy: 0.7550\n",
      "Epoch 88/97\n",
      "8/8 [==============================] - 0s 17ms/step - loss: 0.5362 - auc: 0.7440 - precision_at_recall: 0.7042 - accuracy: 0.7328 - val_loss: 0.5307 - val_auc: 0.7679 - val_precision_at_recall: 0.7035 - val_accuracy: 0.7500\n",
      "Epoch 89/97\n",
      "8/8 [==============================] - 0s 17ms/step - loss: 0.5364 - auc: 0.7497 - precision_at_recall: 0.7003 - accuracy: 0.7392 - val_loss: 0.5298 - val_auc: 0.7693 - val_precision_at_recall: 0.7035 - val_accuracy: 0.7500\n",
      "Epoch 90/97\n",
      "8/8 [==============================] - 0s 17ms/step - loss: 0.5308 - auc: 0.7577 - precision_at_recall: 0.7067 - accuracy: 0.7506 - val_loss: 0.5289 - val_auc: 0.7692 - val_precision_at_recall: 0.7035 - val_accuracy: 0.7500\n",
      "Epoch 91/97\n",
      "8/8 [==============================] - 0s 17ms/step - loss: 0.5278 - auc: 0.7536 - precision_at_recall: 0.7019 - accuracy: 0.7469 - val_loss: 0.5280 - val_auc: 0.7709 - val_precision_at_recall: 0.7035 - val_accuracy: 0.7500\n",
      "Epoch 92/97\n",
      "8/8 [==============================] - 0s 16ms/step - loss: 0.5197 - auc: 0.7722 - precision_at_recall: 0.7063 - accuracy: 0.7384 - val_loss: 0.5271 - val_auc: 0.7718 - val_precision_at_recall: 0.7035 - val_accuracy: 0.7450\n",
      "Epoch 93/97\n",
      "8/8 [==============================] - 0s 17ms/step - loss: 0.5135 - auc: 0.7741 - precision_at_recall: 0.7063 - accuracy: 0.7485 - val_loss: 0.5263 - val_auc: 0.7723 - val_precision_at_recall: 0.7035 - val_accuracy: 0.7450\n",
      "Epoch 94/97\n",
      "8/8 [==============================] - 0s 17ms/step - loss: 0.5264 - auc: 0.7656 - precision_at_recall: 0.7033 - accuracy: 0.7411 - val_loss: 0.5255 - val_auc: 0.7729 - val_precision_at_recall: 0.7035 - val_accuracy: 0.7450\n",
      "Epoch 95/97\n",
      "8/8 [==============================] - 0s 17ms/step - loss: 0.5114 - auc: 0.7753 - precision_at_recall: 0.7078 - accuracy: 0.7325 - val_loss: 0.5247 - val_auc: 0.7741 - val_precision_at_recall: 0.7035 - val_accuracy: 0.7450\n",
      "Epoch 96/97\n",
      "8/8 [==============================] - 0s 16ms/step - loss: 0.5255 - auc: 0.7535 - precision_at_recall: 0.7065 - accuracy: 0.7277 - val_loss: 0.5239 - val_auc: 0.7757 - val_precision_at_recall: 0.7035 - val_accuracy: 0.7450\n",
      "Epoch 97/97\n",
      "8/8 [==============================] - 0s 17ms/step - loss: 0.5290 - auc: 0.7506 - precision_at_recall: 0.7005 - accuracy: 0.7266 - val_loss: 0.5231 - val_auc: 0.7751 - val_precision_at_recall: 0.7035 - val_accuracy: 0.7450\n"
     ]
    },
    {
     "output_type": "execute_result",
     "data": {
      "text/plain": [
       "<tensorflow.python.keras.callbacks.History at 0x20c8df3edf0>"
      ]
     },
     "metadata": {},
     "execution_count": 12
    }
   ],
   "source": [
    "model.fit(X_train_ds,validation_data=X_test_ds,epochs=97)"
   ]
  },
  {
   "cell_type": "code",
   "execution_count": 13,
   "metadata": {},
   "outputs": [
    {
     "output_type": "stream",
     "name": "stdout",
     "text": [
      "Requirement already satisfied: shap in g:\\courses_softwares\\deeplearning.ai-tensorflow-developer-course\\venv\\lib\\site-packages (0.39.0)\nRequirement already satisfied: numba in g:\\courses_softwares\\deeplearning.ai-tensorflow-developer-course\\venv\\lib\\site-packages (from shap) (0.52.0)\nRequirement already satisfied: scipy in g:\\courses_softwares\\deeplearning.ai-tensorflow-developer-course\\venv\\lib\\site-packages (from shap) (1.6.0)\nRequirement already satisfied: pandas in g:\\courses_softwares\\deeplearning.ai-tensorflow-developer-course\\venv\\lib\\site-packages (from shap) (1.2.1)\nRequirement already satisfied: numpy in g:\\courses_softwares\\deeplearning.ai-tensorflow-developer-course\\venv\\lib\\site-packages (from shap) (1.19.5)\nRequirement already satisfied: slicer==0.0.7 in g:\\courses_softwares\\deeplearning.ai-tensorflow-developer-course\\venv\\lib\\site-packages (from shap) (0.0.7)\nRequirement already satisfied: tqdm>4.25.0 in g:\\courses_softwares\\deeplearning.ai-tensorflow-developer-course\\venv\\lib\\site-packages (from shap) (4.56.0)\nRequirement already satisfied: cloudpickle in g:\\courses_softwares\\deeplearning.ai-tensorflow-developer-course\\venv\\lib\\site-packages (from shap) (1.6.0)\nRequirement already satisfied: scikit-learn in g:\\courses_softwares\\deeplearning.ai-tensorflow-developer-course\\venv\\lib\\site-packages (from shap) (0.24.1)\nRequirement already satisfied: llvmlite<0.36,>=0.35.0 in g:\\courses_softwares\\deeplearning.ai-tensorflow-developer-course\\venv\\lib\\site-packages (from numba->shap) (0.35.0)\nRequirement already satisfied: setuptools in g:\\courses_softwares\\deeplearning.ai-tensorflow-developer-course\\venv\\lib\\site-packages (from numba->shap) (53.0.0)\nRequirement already satisfied: python-dateutil>=2.7.3 in g:\\courses_softwares\\deeplearning.ai-tensorflow-developer-course\\venv\\lib\\site-packages (from pandas->shap) (2.8.1)\nRequirement already satisfied: pytz>=2017.3 in g:\\courses_softwares\\deeplearning.ai-tensorflow-developer-course\\venv\\lib\\site-packages (from pandas->shap) (2021.1)\nRequirement already satisfied: six>=1.5 in g:\\courses_softwares\\deeplearning.ai-tensorflow-developer-course\\venv\\lib\\site-packages (from python-dateutil>=2.7.3->pandas->shap) (1.15.0)\nRequirement already satisfied: joblib>=0.11 in g:\\courses_softwares\\deeplearning.ai-tensorflow-developer-course\\venv\\lib\\site-packages (from scikit-learn->shap) (1.0.0)\nRequirement already satisfied: threadpoolctl>=2.0.0 in g:\\courses_softwares\\deeplearning.ai-tensorflow-developer-course\\venv\\lib\\site-packages (from scikit-learn->shap) (2.1.0)\n"
     ]
    }
   ],
   "source": [
    "!py -m pip install shap"
   ]
  },
  {
   "cell_type": "code",
   "execution_count": 14,
   "metadata": {},
   "outputs": [
    {
     "output_type": "error",
     "ename": "SyntaxError",
     "evalue": "invalid syntax (<ipython-input-14-ed8c94c63ede>, line 3)",
     "traceback": [
      "\u001b[1;36m  File \u001b[1;32m\"<ipython-input-14-ed8c94c63ede>\"\u001b[1;36m, line \u001b[1;32m3\u001b[0m\n\u001b[1;33m    explainer = shap.KernelExpla    iner(model.predict, X_train, link=\"logit\")\u001b[0m\n\u001b[1;37m                                    ^\u001b[0m\n\u001b[1;31mSyntaxError\u001b[0m\u001b[1;31m:\u001b[0m invalid syntax\n"
     ]
    }
   ],
   "source": [
    "import shap\n",
    "\n",
    "explainer = shap.KernelExpla    iner(model.predict, X_train, link=\"logit\")\n",
    "shap_values = explainer.shap_values(X_test, nsamples=100)"
   ]
  },
  {
   "cell_type": "code",
   "execution_count": 1,
   "metadata": {},
   "outputs": [
    {
     "output_type": "error",
     "ename": "NameError",
     "evalue": "name 'shap' is not defined",
     "traceback": [
      "\u001b[1;31m---------------------------------------------------------------------------\u001b[0m",
      "\u001b[1;31mNameError\u001b[0m                                 Traceback (most recent call last)",
      "\u001b[1;32m<ipython-input-1-89cadf087319>\u001b[0m in \u001b[0;36m<module>\u001b[1;34m\u001b[0m\n\u001b[0;32m      1\u001b[0m \u001b[1;31m# plot the SHAP values for the Setosa output of the first instance\u001b[0m\u001b[1;33m\u001b[0m\u001b[1;33m\u001b[0m\u001b[1;33m\u001b[0m\u001b[0m\n\u001b[1;32m----> 2\u001b[1;33m \u001b[0mshap\u001b[0m\u001b[1;33m.\u001b[0m\u001b[0minitjs\u001b[0m\u001b[1;33m(\u001b[0m\u001b[1;33m)\u001b[0m\u001b[1;33m\u001b[0m\u001b[1;33m\u001b[0m\u001b[0m\n\u001b[0m\u001b[0;32m      3\u001b[0m \u001b[1;33m\u001b[0m\u001b[0m\n\u001b[0;32m      4\u001b[0m \u001b[0mshap\u001b[0m\u001b[1;33m.\u001b[0m\u001b[0mforce_plot\u001b[0m\u001b[1;33m(\u001b[0m\u001b[0mexplainer\u001b[0m\u001b[1;33m.\u001b[0m\u001b[0mexpected_value\u001b[0m\u001b[1;33m[\u001b[0m\u001b[1;36m0\u001b[0m\u001b[1;33m]\u001b[0m\u001b[1;33m,\u001b[0m \u001b[0mshap_values\u001b[0m\u001b[1;33m[\u001b[0m\u001b[1;36m0\u001b[0m\u001b[1;33m]\u001b[0m\u001b[1;33m[\u001b[0m\u001b[1;36m0\u001b[0m\u001b[1;33m,\u001b[0m\u001b[1;33m:\u001b[0m\u001b[1;33m]\u001b[0m\u001b[1;33m,\u001b[0m \u001b[0mX_test\u001b[0m\u001b[1;33m.\u001b[0m\u001b[0miloc\u001b[0m\u001b[1;33m[\u001b[0m\u001b[1;36m0\u001b[0m\u001b[1;33m,\u001b[0m\u001b[1;33m:\u001b[0m\u001b[1;33m]\u001b[0m\u001b[1;33m,\u001b[0m \u001b[0mlink\u001b[0m\u001b[1;33m=\u001b[0m\u001b[1;34m\"logit\"\u001b[0m\u001b[1;33m)\u001b[0m\u001b[1;33m\u001b[0m\u001b[1;33m\u001b[0m\u001b[0m\n",
      "\u001b[1;31mNameError\u001b[0m: name 'shap' is not defined"
     ]
    }
   ],
   "source": [
    "# plot the SHAP values for the Setosa output of the first instance\n",
    "shap.initjs()\n",
    "\n",
    "shap.force_plot(explainer.expected_value[0], shap_values[0][0,:], X_test.iloc[0,:], link=\"logit\")"
   ]
  }
 ]
}