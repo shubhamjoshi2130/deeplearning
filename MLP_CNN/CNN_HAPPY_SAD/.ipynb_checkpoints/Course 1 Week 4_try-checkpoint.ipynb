{
 "cells": [
  {
   "cell_type": "markdown",
   "metadata": {
    "pycharm": {
     "name": "#%%\n"
    }
   },
   "source": [
    "\n",
    "Below is code with a link to a happy or sad dataset which contains 80 images, 40 happy and 40 sad.\n",
    "Create a convolutional neural network that trains to 100% accuracy on these images,\n",
    "which cancels training upon hitting training accuracy of >.999\n",
    "\n",
    "Hint -- it will work best with 3 convolutional layers."
   ]
  },
  {
   "cell_type": "code",
   "execution_count": 1,
   "metadata": {
    "pycharm": {
     "name": "#%%\n"
    }
   },
   "outputs": [],
   "source": [
    "#!pip install wget"
   ]
  },
  {
   "cell_type": "code",
   "execution_count": 2,
   "metadata": {
    "pycharm": {
     "name": "#%%\n"
    }
   },
   "outputs": [],
   "source": [
    "import tensorflow as tf\n",
    "import os\n",
    "import zipfile\n",
    "from tensorflow.keras.layers import Dense,MaxPool2D,Flatten,Conv2D,Input,MaxPooling2D\n",
    "from tensorflow.keras import Model\n",
    "import wget\n",
    "from tensorflow.keras.preprocessing.image import ImageDataGenerator"
   ]
  },
  {
   "cell_type": "code",
   "execution_count": 3,
   "metadata": {},
   "outputs": [],
   "source": [
    "# import tensorflow as tf\n",
    "# gpus = tf.config.experimental.list_physical_devices('GPU')\n",
    "# for gpu in gpus:\n",
    "#   tf.config.experimental.set_memory_growth(gpu, False)"
   ]
  },
  {
   "cell_type": "code",
   "execution_count": 4,
   "metadata": {
    "pycharm": {
     "name": "#%%\n"
    }
   },
   "outputs": [],
   "source": [
    "#wget.download(\"https://storage.googleapis.com/laurencemoroney-blog.appspot.com/happy-or-sad.zip\" ,\"happy-or-sad.zip\")"
   ]
  },
  {
   "cell_type": "code",
   "execution_count": 5,
   "metadata": {
    "colab": {},
    "colab_type": "code",
    "id": "3NFuMFYXtwsT"
   },
   "outputs": [],
   "source": [
    "DESIRED_ACCURACY = 0.999\n",
    "\n",
    "# zip_ref = zipfile.ZipFile(\"happy-or-sad.zip\", 'r')\n",
    "# zip_ref.extractall(\"h-or-s\")\n",
    "# zip_ref.close()"
   ]
  },
  {
   "cell_type": "code",
   "execution_count": 6,
   "metadata": {
    "pycharm": {
     "name": "#%%\n"
    }
   },
   "outputs": [
    {
     "name": "stdout",
     "output_type": "stream",
     "text": [
      "Found 80 images belonging to 2 classes.\n"
     ]
    }
   ],
   "source": [
    "train_datagen=ImageDataGenerator(rescale=1/255.)\n",
    "train_generator=train_datagen.flow_from_directory('h-or-s',\n",
    "                                                  target_size=(150,150),\n",
    "                                                  batch_size=10,\n",
    "                                                  class_mode='binary')\n",
    "\n"
   ]
  },
  {
   "cell_type": "code",
   "execution_count": 7,
   "metadata": {
    "pycharm": {
     "name": "#%%\n"
    }
   },
   "outputs": [],
   "source": [
    "class myCallback(tf.keras.callbacks.Callback):\n",
    "  def on_epoch_end(self, epoch, logs={}):\n",
    "    if(logs.get('accuracy')>DESIRED_ACCURACY):\n",
    "      print(\"\\nReached 99.9% accuracy so cancelling training!\")\n",
    "      self.model.stop_training = True\n",
    "\n",
    "callbacks = myCallback()\n"
   ]
  },
  {
   "cell_type": "code",
   "execution_count": 8,
   "metadata": {
    "colab": {},
    "colab_type": "code",
    "id": "eUcNTpra1FK0"
   },
   "outputs": [],
   "source": [
    "input_=Input(shape=(150,150,3))\n",
    "x=Conv2D(16,(3,3),activation='relu')(input_)\n",
    "x=MaxPooling2D(2,2)(x)\n",
    "x=Conv2D(32,(3,3),activation='relu')(x)\n",
    "x=MaxPooling2D(2,2)(x)\n",
    "x=Conv2D(32,(3,3),activation='relu')(x)\n",
    "x=MaxPooling2D(2,2)(x)\n",
    "x=Flatten()(x)\n",
    "x=Dense(512,activation='relu')(x)\n",
    "x=Dense(1,activation='sigmoid')(x)\n",
    "model=Model(inputs=input_,outputs=x)\n",
    "\n",
    "\n",
    "\n",
    "from tensorflow.keras.optimizers import RMSprop\n",
    "\n",
    "model.compile(loss='binary_crossentropy',\n",
    "              optimizer=RMSprop(lr=0.001),\n",
    "              metrics=['accuracy'])\n"
   ]
  },
  {
   "cell_type": "code",
   "execution_count": 9,
   "metadata": {
    "colab": {},
    "colab_type": "code",
    "id": "0imravDn0Ajz",
    "scrolled": true
   },
   "outputs": [
    {
     "name": "stdout",
     "output_type": "stream",
     "text": [
      "Epoch 1/15\n",
      "1/1 - 2s - loss: 0.7012 - accuracy: 0.3000\n",
      "Epoch 2/15\n",
      "1/1 - 0s - loss: 15.0662 - accuracy: 0.4000\n",
      "Epoch 3/15\n",
      "1/1 - 0s - loss: 0.6769 - accuracy: 0.6000\n",
      "Epoch 4/15\n",
      "1/1 - 0s - loss: 0.7517 - accuracy: 0.2000\n",
      "Epoch 5/15\n",
      "1/1 - 0s - loss: 1.2092 - accuracy: 0.5000\n",
      "Epoch 6/15\n",
      "1/1 - 0s - loss: 0.7495 - accuracy: 0.5000\n",
      "Epoch 7/15\n",
      "1/1 - 0s - loss: 0.6952 - accuracy: 0.4000\n",
      "Epoch 8/15\n",
      "1/1 - 0s - loss: 0.6082 - accuracy: 0.7000\n",
      "Epoch 9/15\n",
      "1/1 - 0s - loss: 0.7471 - accuracy: 0.4000\n",
      "Epoch 10/15\n",
      "1/1 - 0s - loss: 0.7860 - accuracy: 0.4000\n",
      "Epoch 11/15\n",
      "1/1 - 0s - loss: 0.6618 - accuracy: 1.0000\n",
      "\n",
      "Reached 99.9% accuracy so cancelling training!\n"
     ]
    }
   ],
   "source": [
    "history = model.fit(\n",
    "      train_generator,\n",
    "      steps_per_epoch=2,  \n",
    "      epochs=15,\n",
    "      verbose=1,\n",
    "      callbacks=[callbacks])"
   ]
  }
 ],
 "metadata": {
  "accelerator": "GPU",
  "colab": {
   "name": "Exercise4-Answer.ipynb",
   "provenance": []
  },
  "kernelspec": {
   "display_name": "Python 3",
   "language": "python",
   "name": "python3"
  },
  "language_info": {
   "codemirror_mode": {
    "name": "ipython",
    "version": 3
   },
   "file_extension": ".py",
   "mimetype": "text/x-python",
   "name": "python",
   "nbconvert_exporter": "python",
   "pygments_lexer": "ipython3",
   "version": "3.8.3"
  }
 },
 "nbformat": 4,
 "nbformat_minor": 1
}
