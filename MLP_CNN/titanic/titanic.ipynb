{
 "metadata": {
  "language_info": {
   "codemirror_mode": {
    "name": "ipython",
    "version": 3
   },
   "file_extension": ".py",
   "mimetype": "text/x-python",
   "name": "python",
   "nbconvert_exporter": "python",
   "pygments_lexer": "ipython3",
   "version": "3.8.0-final"
  },
  "orig_nbformat": 2,
  "kernelspec": {
   "name": "python3",
   "display_name": "Python 3.8.0 64-bit ('venv')",
   "metadata": {
    "interpreter": {
     "hash": "c3e3ebc3ed85679552ffe6c6186f6b6244bed1da983f5d098c8eec86ec31b028"
    }
   }
  }
 },
 "nbformat": 4,
 "nbformat_minor": 2,
 "cells": [
  {
   "cell_type": "code",
   "execution_count": 1,
   "metadata": {},
   "outputs": [],
   "source": [
    "import tensorflow as tf\n",
    "from tensorflow.keras.layers import Conv2D,MaxPool2D,Dense,BatchNormalization,Dropout,Input,Activation,Flatten\n",
    "from tensorflow.keras.layers.experimental.preprocessing import Rescaling,RandomRotation,RandomZoom,RandomFlip,Resizing\n",
    "from tensorflow.keras.models import Model\n",
    "import tensorflow_datasets as tfds\n",
    "import numpy as np \n",
    "import pandas as pd\n",
    "from sklearn.preprocessing import OneHotEncoder\n",
    "from sklearn.model_selection import train_test_split\n",
    "import re"
   ]
  },
  {
   "cell_type": "code",
   "execution_count": 2,
   "metadata": {
    "tags": []
   },
   "outputs": [],
   "source": [
    "#train_ds, train_info=tfds.load('titanic', split='train', with_info=True,shuffle_files=True, as_supervised=True,data_dir='./data')\n",
    "train_ds,ds_info  = tfds.load('titanic', split='train',data_dir='./data',as_supervised=True, with_info=True)"
   ]
  },
  {
   "cell_type": "code",
   "execution_count": null,
   "metadata": {},
   "outputs": [],
   "source": []
  },
  {
   "cell_type": "code",
   "execution_count": 3,
   "metadata": {},
   "outputs": [
    {
     "output_type": "execute_result",
     "data": {
      "text/plain": [
       "({'age': <tf.Tensor: shape=(), dtype=float32, numpy=30.0>,\n",
       "  'boat': <tf.Tensor: shape=(), dtype=string, numpy=b'Unknown'>,\n",
       "  'body': <tf.Tensor: shape=(), dtype=int32, numpy=-1>,\n",
       "  'cabin': <tf.Tensor: shape=(), dtype=string, numpy=b'Unknown'>,\n",
       "  'embarked': <tf.Tensor: shape=(), dtype=int64, numpy=2>,\n",
       "  'fare': <tf.Tensor: shape=(), dtype=float32, numpy=13.0>,\n",
       "  'home.dest': <tf.Tensor: shape=(), dtype=string, numpy=b'Sarnia, ON'>,\n",
       "  'name': <tf.Tensor: shape=(), dtype=string, numpy=b'McCrie, Mr. James Matthew'>,\n",
       "  'parch': <tf.Tensor: shape=(), dtype=int32, numpy=0>,\n",
       "  'pclass': <tf.Tensor: shape=(), dtype=int64, numpy=1>,\n",
       "  'sex': <tf.Tensor: shape=(), dtype=int64, numpy=0>,\n",
       "  'sibsp': <tf.Tensor: shape=(), dtype=int32, numpy=0>,\n",
       "  'ticket': <tf.Tensor: shape=(), dtype=string, numpy=b'233478'>},\n",
       " <tf.Tensor: shape=(), dtype=int64, numpy=0>)"
      ]
     },
     "metadata": {},
     "execution_count": 3
    }
   ],
   "source": [
    "next(iter(train_ds))"
   ]
  },
  {
   "cell_type": "code",
   "execution_count": 4,
   "metadata": {},
   "outputs": [
    {
     "output_type": "execute_result",
     "data": {
      "text/plain": [
       "   features/age features/boat  features/body features/cabin  \\\n",
       "0          30.0       Unknown             -1        Unknown   \n",
       "1          37.0       Unknown             98        Unknown   \n",
       "2          28.0             9             -1        Unknown   \n",
       "3          18.0       Unknown             -1        Unknown   \n",
       "4          -1.0       Unknown             -1        Unknown   \n",
       "\n",
       "   features/embarked  features/fare                   features/home.dest  \\\n",
       "0                  2        13.0000                           Sarnia, ON   \n",
       "1                  2         7.9250  Ruotsinphytaa, Finland New York, NY   \n",
       "2                  2        13.0000                                Spain   \n",
       "3                  2        73.5000                   Lyndhurst, England   \n",
       "4                  0         7.8958                              Unknown   \n",
       "\n",
       "                    features/name  features/parch  features/pclass  \\\n",
       "0       McCrie, Mr. James Matthew               0                1   \n",
       "1  Gustafsson, Mr. Anders Vilhelm               0                2   \n",
       "2       Reynaldo, Ms. Encarnacion               0                1   \n",
       "3       Davies, Mr. Charles Henry               0                1   \n",
       "4          Gheorgheff, Mr. Stanio               0                2   \n",
       "\n",
       "   features/sex  features/sibsp features/ticket  survived  \n",
       "0             0               0          233478         0  \n",
       "1             0               2         3101276         0  \n",
       "2             1               0          230434         1  \n",
       "3             0               0    S.O.C. 14879         0  \n",
       "4             0               0          349254         0  "
      ],
      "text/html": "<div>\n<style scoped>\n    .dataframe tbody tr th:only-of-type {\n        vertical-align: middle;\n    }\n\n    .dataframe tbody tr th {\n        vertical-align: top;\n    }\n\n    .dataframe thead th {\n        text-align: right;\n    }\n</style>\n<table border=\"1\" class=\"dataframe\">\n  <thead>\n    <tr style=\"text-align: right;\">\n      <th></th>\n      <th>features/age</th>\n      <th>features/boat</th>\n      <th>features/body</th>\n      <th>features/cabin</th>\n      <th>features/embarked</th>\n      <th>features/fare</th>\n      <th>features/home.dest</th>\n      <th>features/name</th>\n      <th>features/parch</th>\n      <th>features/pclass</th>\n      <th>features/sex</th>\n      <th>features/sibsp</th>\n      <th>features/ticket</th>\n      <th>survived</th>\n    </tr>\n  </thead>\n  <tbody>\n    <tr>\n      <th>0</th>\n      <td>30.0</td>\n      <td>Unknown</td>\n      <td>-1</td>\n      <td>Unknown</td>\n      <td>2</td>\n      <td>13.0000</td>\n      <td>Sarnia, ON</td>\n      <td>McCrie, Mr. James Matthew</td>\n      <td>0</td>\n      <td>1</td>\n      <td>0</td>\n      <td>0</td>\n      <td>233478</td>\n      <td>0</td>\n    </tr>\n    <tr>\n      <th>1</th>\n      <td>37.0</td>\n      <td>Unknown</td>\n      <td>98</td>\n      <td>Unknown</td>\n      <td>2</td>\n      <td>7.9250</td>\n      <td>Ruotsinphytaa, Finland New York, NY</td>\n      <td>Gustafsson, Mr. Anders Vilhelm</td>\n      <td>0</td>\n      <td>2</td>\n      <td>0</td>\n      <td>2</td>\n      <td>3101276</td>\n      <td>0</td>\n    </tr>\n    <tr>\n      <th>2</th>\n      <td>28.0</td>\n      <td>9</td>\n      <td>-1</td>\n      <td>Unknown</td>\n      <td>2</td>\n      <td>13.0000</td>\n      <td>Spain</td>\n      <td>Reynaldo, Ms. Encarnacion</td>\n      <td>0</td>\n      <td>1</td>\n      <td>1</td>\n      <td>0</td>\n      <td>230434</td>\n      <td>1</td>\n    </tr>\n    <tr>\n      <th>3</th>\n      <td>18.0</td>\n      <td>Unknown</td>\n      <td>-1</td>\n      <td>Unknown</td>\n      <td>2</td>\n      <td>73.5000</td>\n      <td>Lyndhurst, England</td>\n      <td>Davies, Mr. Charles Henry</td>\n      <td>0</td>\n      <td>1</td>\n      <td>0</td>\n      <td>0</td>\n      <td>S.O.C. 14879</td>\n      <td>0</td>\n    </tr>\n    <tr>\n      <th>4</th>\n      <td>-1.0</td>\n      <td>Unknown</td>\n      <td>-1</td>\n      <td>Unknown</td>\n      <td>0</td>\n      <td>7.8958</td>\n      <td>Unknown</td>\n      <td>Gheorgheff, Mr. Stanio</td>\n      <td>0</td>\n      <td>2</td>\n      <td>0</td>\n      <td>0</td>\n      <td>349254</td>\n      <td>0</td>\n    </tr>\n  </tbody>\n</table>\n</div>"
     },
     "metadata": {},
     "execution_count": 4
    }
   ],
   "source": [
    "df = tfds.as_dataframe(train_ds,ds_info)\n",
    "for col, dtype in df.dtypes.items():\n",
    "    if dtype == np.object:  # Only process byte object columns.\n",
    "        df[col] = df[col].apply(lambda x: x.decode(\"utf-8\"))\n",
    "df.head(5)"
   ]
  },
  {
   "cell_type": "code",
   "execution_count": 5,
   "metadata": {},
   "outputs": [
    {
     "output_type": "execute_result",
     "data": {
      "text/plain": [
       "array(['Unknown', 'B73', 'D26', 'D', 'B10', 'A5', 'C124', 'B96 B98',\n",
       "       'E50', 'C99', 'B94', 'E68', 'C6', 'B57 B59 B63 B66', 'E8', 'E24',\n",
       "       'D20', 'B71', 'E67', 'B22', 'C65', 'D7', 'B39', 'B51 B53 B55',\n",
       "       'C103', 'C68', 'E46', 'B58 B60', 'G6', 'C126', 'B19', 'F G73',\n",
       "       'B35', 'D47', 'A29', 'D28', 'D21', 'B41', 'C78', 'F33', 'C110',\n",
       "       'D48', 'D45', 'D33', 'A23', 'D10 D12', 'E44', 'B20', 'B77', 'B101',\n",
       "       'E52', 'E60', 'D19', 'E38', 'C101', 'C30', 'C23 C25 C27', 'C111',\n",
       "       'F2', 'D15', 'E12', 'E101', 'A6', 'C50', 'B49', 'D22', 'A34',\n",
       "       'D30', 'C55 C57', 'A24', 'C106', 'E33', 'F', 'C2', 'B69', 'C125',\n",
       "       'C87', 'B42', 'B80', 'F G63', 'B28', 'E77', 'E31', 'D36', 'D17',\n",
       "       'C92', 'C39', 'B78', 'B52 B54 B56', 'C80', 'C7', 'C104', 'B18',\n",
       "       'D46', 'B30', 'E49', 'A31', 'F38', 'C132', 'E121', 'A14', 'B45',\n",
       "       'E63', 'D35', 'B38', 'C118', 'E45', 'C91', 'C54', 'C22 C26', 'B50',\n",
       "       'C93', 'C52', 'C85', 'D40', 'A7', 'A18', 'C89', 'C123', 'B82 B84',\n",
       "       'C62 C64', 'A32', 'C148', 'F4', 'B79', 'E17', 'B11', 'E25', 'D56',\n",
       "       'B4', 'A19', 'C45', 'B5', 'C116', 'E34', 'C95', 'C86', 'C130',\n",
       "       'D50', 'C28', 'A16', 'C49', 'D38', 'C82', 'C53', 'B61', 'D37',\n",
       "       'D11', 'D49', 'C51', 'C70', 'E36', 'C46', 'C47', 'A11', 'B37', 'T',\n",
       "       'C105', 'A20', 'B86', 'C97', 'E40', 'C32', 'B3', 'D34', 'A36',\n",
       "       'F E57', 'B26', 'C31', 'A26', 'E39 E41', 'A9', 'C90', 'A21', 'E58',\n",
       "       'C83', 'B36', 'D43', 'B102', 'E10', 'A10', 'C128', 'D9', 'D6',\n",
       "       'B24', 'F E46', 'F E69'], dtype=object)"
      ]
     },
     "metadata": {},
     "execution_count": 5
    }
   ],
   "source": [
    "df['features/cabin'].unique()"
   ]
  },
  {
   "cell_type": "code",
   "execution_count": 6,
   "metadata": {},
   "outputs": [],
   "source": [
    "categorical_columns=['features/boat','features/cabin','features/home.dest','features/name','features/ticket']\n",
    "numeric_columns=['features/age', 'features/body','features/embarked','features/fare','features/parch','features/pclass','features/sex','features/sibsp','features/ticket']"
   ]
  },
  {
   "cell_type": "code",
   "execution_count": 7,
   "metadata": {},
   "outputs": [
    {
     "output_type": "stream",
     "name": "stdout",
     "text": [
      "(1309, 2816)\n"
     ]
    },
    {
     "output_type": "execute_result",
     "data": {
      "text/plain": [
       "      features/boat_10  features/boat_11  features/boat_12  features/boat_13  \\\n",
       "0                  0.0               0.0               0.0               0.0   \n",
       "1                  0.0               0.0               0.0               0.0   \n",
       "2                  0.0               0.0               0.0               0.0   \n",
       "3                  0.0               0.0               0.0               0.0   \n",
       "4                  0.0               0.0               0.0               0.0   \n",
       "...                ...               ...               ...               ...   \n",
       "1304               0.0               0.0               0.0               0.0   \n",
       "1305               0.0               0.0               0.0               0.0   \n",
       "1306               0.0               0.0               0.0               0.0   \n",
       "1307               0.0               0.0               0.0               0.0   \n",
       "1308               0.0               0.0               0.0               0.0   \n",
       "\n",
       "      features/boat_13 15  features/boat_13 15 B  features/boat_14  \\\n",
       "0                     0.0                    0.0               0.0   \n",
       "1                     0.0                    0.0               0.0   \n",
       "2                     0.0                    0.0               0.0   \n",
       "3                     0.0                    0.0               0.0   \n",
       "4                     0.0                    0.0               0.0   \n",
       "...                   ...                    ...               ...   \n",
       "1304                  0.0                    0.0               0.0   \n",
       "1305                  0.0                    0.0               0.0   \n",
       "1306                  0.0                    0.0               0.0   \n",
       "1307                  0.0                    0.0               0.0   \n",
       "1308                  0.0                    0.0               0.0   \n",
       "\n",
       "      features/boat_15  features/boat_15 16  features/boat_16  ...  \\\n",
       "0                  0.0                  0.0               0.0  ...   \n",
       "1                  0.0                  0.0               0.0  ...   \n",
       "2                  0.0                  0.0               0.0  ...   \n",
       "3                  0.0                  0.0               0.0  ...   \n",
       "4                  0.0                  0.0               0.0  ...   \n",
       "...                ...                  ...               ...  ...   \n",
       "1304               0.0                  0.0               0.0  ...   \n",
       "1305               0.0                  0.0               0.0  ...   \n",
       "1306               0.0                  0.0               0.0  ...   \n",
       "1307               0.0                  0.0               0.0  ...   \n",
       "1308               0.0                  0.0               0.0  ...   \n",
       "\n",
       "      features/ticket_W./C. 14258  features/ticket_W./C. 14260  \\\n",
       "0                             0.0                          0.0   \n",
       "1                             0.0                          0.0   \n",
       "2                             0.0                          0.0   \n",
       "3                             0.0                          0.0   \n",
       "4                             0.0                          0.0   \n",
       "...                           ...                          ...   \n",
       "1304                          0.0                          0.0   \n",
       "1305                          0.0                          0.0   \n",
       "1306                          0.0                          0.0   \n",
       "1307                          0.0                          0.0   \n",
       "1308                          0.0                          0.0   \n",
       "\n",
       "      features/ticket_W./C. 14263  features/ticket_W./C. 14266  \\\n",
       "0                             0.0                          0.0   \n",
       "1                             0.0                          0.0   \n",
       "2                             0.0                          0.0   \n",
       "3                             0.0                          0.0   \n",
       "4                             0.0                          0.0   \n",
       "...                           ...                          ...   \n",
       "1304                          0.0                          0.0   \n",
       "1305                          0.0                          0.0   \n",
       "1306                          0.0                          0.0   \n",
       "1307                          0.0                          0.0   \n",
       "1308                          0.0                          0.0   \n",
       "\n",
       "      features/ticket_W./C. 6607  features/ticket_W./C. 6608  \\\n",
       "0                            0.0                         0.0   \n",
       "1                            0.0                         0.0   \n",
       "2                            0.0                         0.0   \n",
       "3                            0.0                         0.0   \n",
       "4                            0.0                         0.0   \n",
       "...                          ...                         ...   \n",
       "1304                         0.0                         0.0   \n",
       "1305                         0.0                         0.0   \n",
       "1306                         0.0                         0.0   \n",
       "1307                         0.0                         0.0   \n",
       "1308                         0.0                         0.0   \n",
       "\n",
       "      features/ticket_W./C. 6609  features/ticket_W.E.P. 5734  \\\n",
       "0                            0.0                          0.0   \n",
       "1                            0.0                          0.0   \n",
       "2                            0.0                          0.0   \n",
       "3                            0.0                          0.0   \n",
       "4                            0.0                          0.0   \n",
       "...                          ...                          ...   \n",
       "1304                         0.0                          0.0   \n",
       "1305                         0.0                          0.0   \n",
       "1306                         0.0                          0.0   \n",
       "1307                         0.0                          0.0   \n",
       "1308                         0.0                          0.0   \n",
       "\n",
       "      features/ticket_W/C 14208  features/ticket_WE/P 5735  \n",
       "0                           0.0                        0.0  \n",
       "1                           0.0                        0.0  \n",
       "2                           0.0                        0.0  \n",
       "3                           0.0                        0.0  \n",
       "4                           0.0                        0.0  \n",
       "...                         ...                        ...  \n",
       "1304                        0.0                        0.0  \n",
       "1305                        0.0                        0.0  \n",
       "1306                        0.0                        0.0  \n",
       "1307                        0.0                        0.0  \n",
       "1308                        0.0                        0.0  \n",
       "\n",
       "[1309 rows x 2816 columns]"
      ],
      "text/html": "<div>\n<style scoped>\n    .dataframe tbody tr th:only-of-type {\n        vertical-align: middle;\n    }\n\n    .dataframe tbody tr th {\n        vertical-align: top;\n    }\n\n    .dataframe thead th {\n        text-align: right;\n    }\n</style>\n<table border=\"1\" class=\"dataframe\">\n  <thead>\n    <tr style=\"text-align: right;\">\n      <th></th>\n      <th>features/boat_10</th>\n      <th>features/boat_11</th>\n      <th>features/boat_12</th>\n      <th>features/boat_13</th>\n      <th>features/boat_13 15</th>\n      <th>features/boat_13 15 B</th>\n      <th>features/boat_14</th>\n      <th>features/boat_15</th>\n      <th>features/boat_15 16</th>\n      <th>features/boat_16</th>\n      <th>...</th>\n      <th>features/ticket_W./C. 14258</th>\n      <th>features/ticket_W./C. 14260</th>\n      <th>features/ticket_W./C. 14263</th>\n      <th>features/ticket_W./C. 14266</th>\n      <th>features/ticket_W./C. 6607</th>\n      <th>features/ticket_W./C. 6608</th>\n      <th>features/ticket_W./C. 6609</th>\n      <th>features/ticket_W.E.P. 5734</th>\n      <th>features/ticket_W/C 14208</th>\n      <th>features/ticket_WE/P 5735</th>\n    </tr>\n  </thead>\n  <tbody>\n    <tr>\n      <th>0</th>\n      <td>0.0</td>\n      <td>0.0</td>\n      <td>0.0</td>\n      <td>0.0</td>\n      <td>0.0</td>\n      <td>0.0</td>\n      <td>0.0</td>\n      <td>0.0</td>\n      <td>0.0</td>\n      <td>0.0</td>\n      <td>...</td>\n      <td>0.0</td>\n      <td>0.0</td>\n      <td>0.0</td>\n      <td>0.0</td>\n      <td>0.0</td>\n      <td>0.0</td>\n      <td>0.0</td>\n      <td>0.0</td>\n      <td>0.0</td>\n      <td>0.0</td>\n    </tr>\n    <tr>\n      <th>1</th>\n      <td>0.0</td>\n      <td>0.0</td>\n      <td>0.0</td>\n      <td>0.0</td>\n      <td>0.0</td>\n      <td>0.0</td>\n      <td>0.0</td>\n      <td>0.0</td>\n      <td>0.0</td>\n      <td>0.0</td>\n      <td>...</td>\n      <td>0.0</td>\n      <td>0.0</td>\n      <td>0.0</td>\n      <td>0.0</td>\n      <td>0.0</td>\n      <td>0.0</td>\n      <td>0.0</td>\n      <td>0.0</td>\n      <td>0.0</td>\n      <td>0.0</td>\n    </tr>\n    <tr>\n      <th>2</th>\n      <td>0.0</td>\n      <td>0.0</td>\n      <td>0.0</td>\n      <td>0.0</td>\n      <td>0.0</td>\n      <td>0.0</td>\n      <td>0.0</td>\n      <td>0.0</td>\n      <td>0.0</td>\n      <td>0.0</td>\n      <td>...</td>\n      <td>0.0</td>\n      <td>0.0</td>\n      <td>0.0</td>\n      <td>0.0</td>\n      <td>0.0</td>\n      <td>0.0</td>\n      <td>0.0</td>\n      <td>0.0</td>\n      <td>0.0</td>\n      <td>0.0</td>\n    </tr>\n    <tr>\n      <th>3</th>\n      <td>0.0</td>\n      <td>0.0</td>\n      <td>0.0</td>\n      <td>0.0</td>\n      <td>0.0</td>\n      <td>0.0</td>\n      <td>0.0</td>\n      <td>0.0</td>\n      <td>0.0</td>\n      <td>0.0</td>\n      <td>...</td>\n      <td>0.0</td>\n      <td>0.0</td>\n      <td>0.0</td>\n      <td>0.0</td>\n      <td>0.0</td>\n      <td>0.0</td>\n      <td>0.0</td>\n      <td>0.0</td>\n      <td>0.0</td>\n      <td>0.0</td>\n    </tr>\n    <tr>\n      <th>4</th>\n      <td>0.0</td>\n      <td>0.0</td>\n      <td>0.0</td>\n      <td>0.0</td>\n      <td>0.0</td>\n      <td>0.0</td>\n      <td>0.0</td>\n      <td>0.0</td>\n      <td>0.0</td>\n      <td>0.0</td>\n      <td>...</td>\n      <td>0.0</td>\n      <td>0.0</td>\n      <td>0.0</td>\n      <td>0.0</td>\n      <td>0.0</td>\n      <td>0.0</td>\n      <td>0.0</td>\n      <td>0.0</td>\n      <td>0.0</td>\n      <td>0.0</td>\n    </tr>\n    <tr>\n      <th>...</th>\n      <td>...</td>\n      <td>...</td>\n      <td>...</td>\n      <td>...</td>\n      <td>...</td>\n      <td>...</td>\n      <td>...</td>\n      <td>...</td>\n      <td>...</td>\n      <td>...</td>\n      <td>...</td>\n      <td>...</td>\n      <td>...</td>\n      <td>...</td>\n      <td>...</td>\n      <td>...</td>\n      <td>...</td>\n      <td>...</td>\n      <td>...</td>\n      <td>...</td>\n      <td>...</td>\n    </tr>\n    <tr>\n      <th>1304</th>\n      <td>0.0</td>\n      <td>0.0</td>\n      <td>0.0</td>\n      <td>0.0</td>\n      <td>0.0</td>\n      <td>0.0</td>\n      <td>0.0</td>\n      <td>0.0</td>\n      <td>0.0</td>\n      <td>0.0</td>\n      <td>...</td>\n      <td>0.0</td>\n      <td>0.0</td>\n      <td>0.0</td>\n      <td>0.0</td>\n      <td>0.0</td>\n      <td>0.0</td>\n      <td>0.0</td>\n      <td>0.0</td>\n      <td>0.0</td>\n      <td>0.0</td>\n    </tr>\n    <tr>\n      <th>1305</th>\n      <td>0.0</td>\n      <td>0.0</td>\n      <td>0.0</td>\n      <td>0.0</td>\n      <td>0.0</td>\n      <td>0.0</td>\n      <td>0.0</td>\n      <td>0.0</td>\n      <td>0.0</td>\n      <td>0.0</td>\n      <td>...</td>\n      <td>0.0</td>\n      <td>0.0</td>\n      <td>0.0</td>\n      <td>0.0</td>\n      <td>0.0</td>\n      <td>0.0</td>\n      <td>0.0</td>\n      <td>0.0</td>\n      <td>0.0</td>\n      <td>0.0</td>\n    </tr>\n    <tr>\n      <th>1306</th>\n      <td>0.0</td>\n      <td>0.0</td>\n      <td>0.0</td>\n      <td>0.0</td>\n      <td>0.0</td>\n      <td>0.0</td>\n      <td>0.0</td>\n      <td>0.0</td>\n      <td>0.0</td>\n      <td>0.0</td>\n      <td>...</td>\n      <td>0.0</td>\n      <td>0.0</td>\n      <td>0.0</td>\n      <td>0.0</td>\n      <td>0.0</td>\n      <td>0.0</td>\n      <td>0.0</td>\n      <td>0.0</td>\n      <td>0.0</td>\n      <td>0.0</td>\n    </tr>\n    <tr>\n      <th>1307</th>\n      <td>0.0</td>\n      <td>0.0</td>\n      <td>0.0</td>\n      <td>0.0</td>\n      <td>0.0</td>\n      <td>0.0</td>\n      <td>0.0</td>\n      <td>0.0</td>\n      <td>0.0</td>\n      <td>0.0</td>\n      <td>...</td>\n      <td>0.0</td>\n      <td>0.0</td>\n      <td>0.0</td>\n      <td>0.0</td>\n      <td>0.0</td>\n      <td>0.0</td>\n      <td>0.0</td>\n      <td>0.0</td>\n      <td>0.0</td>\n      <td>0.0</td>\n    </tr>\n    <tr>\n      <th>1308</th>\n      <td>0.0</td>\n      <td>0.0</td>\n      <td>0.0</td>\n      <td>0.0</td>\n      <td>0.0</td>\n      <td>0.0</td>\n      <td>0.0</td>\n      <td>0.0</td>\n      <td>0.0</td>\n      <td>0.0</td>\n      <td>...</td>\n      <td>0.0</td>\n      <td>0.0</td>\n      <td>0.0</td>\n      <td>0.0</td>\n      <td>0.0</td>\n      <td>0.0</td>\n      <td>0.0</td>\n      <td>0.0</td>\n      <td>0.0</td>\n      <td>0.0</td>\n    </tr>\n  </tbody>\n</table>\n<p>1309 rows × 2816 columns</p>\n</div>"
     },
     "metadata": {},
     "execution_count": 7
    }
   ],
   "source": [
    "\n",
    "one_hot_encoder=OneHotEncoder(drop='first',sparse=False)\n",
    "one_hot_encoder.fit(df[categorical_columns])\n",
    "train_categorical=one_hot_encoder.transform(df[categorical_columns]) \n",
    "#one_hot_columns=[x + '_' + str(y)  for y in one_hot_encoder.categories_[i] for i,x in enumerate(one_hot_encoder.categories_)]\n",
    "col_ohe_nm=[]\n",
    "for i1,x1 in enumerate(one_hot_encoder.categories_):     \n",
    "    col_ohe_nm.extend([categorical_columns[i1] + '_' + str(y1)  for y1 in x1.tolist()[1:]])\n",
    "\n",
    "print(train_categorical.shape)\n",
    "categorical_df=pd.DataFrame(train_categorical,columns=col_ohe_nm)\n",
    "\n",
    "numeric_df=df[numeric_columns]\n",
    "categorical_df\n"
   ]
  },
  {
   "cell_type": "code",
   "execution_count": 8,
   "metadata": {},
   "outputs": [],
   "source": [
    "numeric_df['features/ticket']=numeric_df['features/ticket'].apply(lambda x: re.sub('[A-Za-z\\\\. /:]*','',x))\n",
    "numeric_df['features/ticket']=numeric_df['features/ticket'].apply(lambda x: 0 if x=='' else int(x))"
   ]
  },
  {
   "cell_type": "code",
   "execution_count": 9,
   "metadata": {},
   "outputs": [
    {
     "output_type": "execute_result",
     "data": {
      "text/plain": [
       "      features/boat_10  features/boat_11  features/boat_12  features/boat_13  \\\n",
       "0                  0.0               0.0               0.0               0.0   \n",
       "1                  0.0               0.0               0.0               0.0   \n",
       "2                  0.0               0.0               0.0               0.0   \n",
       "3                  0.0               0.0               0.0               0.0   \n",
       "4                  0.0               0.0               0.0               0.0   \n",
       "...                ...               ...               ...               ...   \n",
       "1304               0.0               0.0               0.0               0.0   \n",
       "1305               0.0               0.0               0.0               0.0   \n",
       "1306               0.0               0.0               0.0               0.0   \n",
       "1307               0.0               0.0               0.0               0.0   \n",
       "1308               0.0               0.0               0.0               0.0   \n",
       "\n",
       "      features/boat_13 15  features/boat_13 15 B  features/boat_14  \\\n",
       "0                     0.0                    0.0               0.0   \n",
       "1                     0.0                    0.0               0.0   \n",
       "2                     0.0                    0.0               0.0   \n",
       "3                     0.0                    0.0               0.0   \n",
       "4                     0.0                    0.0               0.0   \n",
       "...                   ...                    ...               ...   \n",
       "1304                  0.0                    0.0               0.0   \n",
       "1305                  0.0                    0.0               0.0   \n",
       "1306                  0.0                    0.0               0.0   \n",
       "1307                  0.0                    0.0               0.0   \n",
       "1308                  0.0                    0.0               0.0   \n",
       "\n",
       "      features/boat_15  features/boat_15 16  features/boat_16  ...  \\\n",
       "0                  0.0                  0.0               0.0  ...   \n",
       "1                  0.0                  0.0               0.0  ...   \n",
       "2                  0.0                  0.0               0.0  ...   \n",
       "3                  0.0                  0.0               0.0  ...   \n",
       "4                  0.0                  0.0               0.0  ...   \n",
       "...                ...                  ...               ...  ...   \n",
       "1304               0.0                  0.0               0.0  ...   \n",
       "1305               0.0                  0.0               0.0  ...   \n",
       "1306               0.0                  0.0               0.0  ...   \n",
       "1307               0.0                  0.0               0.0  ...   \n",
       "1308               0.0                  0.0               0.0  ...   \n",
       "\n",
       "      features/ticket_WE/P 5735  features/age  features/body  \\\n",
       "0                           0.0          30.0             -1   \n",
       "1                           0.0          37.0             98   \n",
       "2                           0.0          28.0             -1   \n",
       "3                           0.0          18.0             -1   \n",
       "4                           0.0          -1.0             -1   \n",
       "...                         ...           ...            ...   \n",
       "1304                        0.0          32.0             -1   \n",
       "1305                        0.0          19.0             -1   \n",
       "1306                        0.0          -1.0             -1   \n",
       "1307                        0.0          31.0             -1   \n",
       "1308                        0.0          36.0             -1   \n",
       "\n",
       "      features/embarked  features/fare  features/parch  features/pclass  \\\n",
       "0                     2        13.0000               0                1   \n",
       "1                     2         7.9250               0                2   \n",
       "2                     2        13.0000               0                1   \n",
       "3                     2        73.5000               0                1   \n",
       "4                     0         7.8958               0                2   \n",
       "...                 ...            ...             ...              ...   \n",
       "1304                  1         7.7500               0                2   \n",
       "1305                  2         7.7750               0                2   \n",
       "1306                  1         8.1375               0                2   \n",
       "1307                  2        20.5250               1                2   \n",
       "1308                  2        27.7500               2                1   \n",
       "\n",
       "      features/sex  features/sibsp  features/ticket  \n",
       "0                0               0           233478  \n",
       "1                0               2          3101276  \n",
       "2                1               0           230434  \n",
       "3                0               0            14879  \n",
       "4                0               0           349254  \n",
       "...            ...             ...              ...  \n",
       "1304             0               0           370376  \n",
       "1305             0               0           347069  \n",
       "1306             1               0           330935  \n",
       "1307             1               1           363291  \n",
       "1308             0               1            34651  \n",
       "\n",
       "[1309 rows x 2825 columns]"
      ],
      "text/html": "<div>\n<style scoped>\n    .dataframe tbody tr th:only-of-type {\n        vertical-align: middle;\n    }\n\n    .dataframe tbody tr th {\n        vertical-align: top;\n    }\n\n    .dataframe thead th {\n        text-align: right;\n    }\n</style>\n<table border=\"1\" class=\"dataframe\">\n  <thead>\n    <tr style=\"text-align: right;\">\n      <th></th>\n      <th>features/boat_10</th>\n      <th>features/boat_11</th>\n      <th>features/boat_12</th>\n      <th>features/boat_13</th>\n      <th>features/boat_13 15</th>\n      <th>features/boat_13 15 B</th>\n      <th>features/boat_14</th>\n      <th>features/boat_15</th>\n      <th>features/boat_15 16</th>\n      <th>features/boat_16</th>\n      <th>...</th>\n      <th>features/ticket_WE/P 5735</th>\n      <th>features/age</th>\n      <th>features/body</th>\n      <th>features/embarked</th>\n      <th>features/fare</th>\n      <th>features/parch</th>\n      <th>features/pclass</th>\n      <th>features/sex</th>\n      <th>features/sibsp</th>\n      <th>features/ticket</th>\n    </tr>\n  </thead>\n  <tbody>\n    <tr>\n      <th>0</th>\n      <td>0.0</td>\n      <td>0.0</td>\n      <td>0.0</td>\n      <td>0.0</td>\n      <td>0.0</td>\n      <td>0.0</td>\n      <td>0.0</td>\n      <td>0.0</td>\n      <td>0.0</td>\n      <td>0.0</td>\n      <td>...</td>\n      <td>0.0</td>\n      <td>30.0</td>\n      <td>-1</td>\n      <td>2</td>\n      <td>13.0000</td>\n      <td>0</td>\n      <td>1</td>\n      <td>0</td>\n      <td>0</td>\n      <td>233478</td>\n    </tr>\n    <tr>\n      <th>1</th>\n      <td>0.0</td>\n      <td>0.0</td>\n      <td>0.0</td>\n      <td>0.0</td>\n      <td>0.0</td>\n      <td>0.0</td>\n      <td>0.0</td>\n      <td>0.0</td>\n      <td>0.0</td>\n      <td>0.0</td>\n      <td>...</td>\n      <td>0.0</td>\n      <td>37.0</td>\n      <td>98</td>\n      <td>2</td>\n      <td>7.9250</td>\n      <td>0</td>\n      <td>2</td>\n      <td>0</td>\n      <td>2</td>\n      <td>3101276</td>\n    </tr>\n    <tr>\n      <th>2</th>\n      <td>0.0</td>\n      <td>0.0</td>\n      <td>0.0</td>\n      <td>0.0</td>\n      <td>0.0</td>\n      <td>0.0</td>\n      <td>0.0</td>\n      <td>0.0</td>\n      <td>0.0</td>\n      <td>0.0</td>\n      <td>...</td>\n      <td>0.0</td>\n      <td>28.0</td>\n      <td>-1</td>\n      <td>2</td>\n      <td>13.0000</td>\n      <td>0</td>\n      <td>1</td>\n      <td>1</td>\n      <td>0</td>\n      <td>230434</td>\n    </tr>\n    <tr>\n      <th>3</th>\n      <td>0.0</td>\n      <td>0.0</td>\n      <td>0.0</td>\n      <td>0.0</td>\n      <td>0.0</td>\n      <td>0.0</td>\n      <td>0.0</td>\n      <td>0.0</td>\n      <td>0.0</td>\n      <td>0.0</td>\n      <td>...</td>\n      <td>0.0</td>\n      <td>18.0</td>\n      <td>-1</td>\n      <td>2</td>\n      <td>73.5000</td>\n      <td>0</td>\n      <td>1</td>\n      <td>0</td>\n      <td>0</td>\n      <td>14879</td>\n    </tr>\n    <tr>\n      <th>4</th>\n      <td>0.0</td>\n      <td>0.0</td>\n      <td>0.0</td>\n      <td>0.0</td>\n      <td>0.0</td>\n      <td>0.0</td>\n      <td>0.0</td>\n      <td>0.0</td>\n      <td>0.0</td>\n      <td>0.0</td>\n      <td>...</td>\n      <td>0.0</td>\n      <td>-1.0</td>\n      <td>-1</td>\n      <td>0</td>\n      <td>7.8958</td>\n      <td>0</td>\n      <td>2</td>\n      <td>0</td>\n      <td>0</td>\n      <td>349254</td>\n    </tr>\n    <tr>\n      <th>...</th>\n      <td>...</td>\n      <td>...</td>\n      <td>...</td>\n      <td>...</td>\n      <td>...</td>\n      <td>...</td>\n      <td>...</td>\n      <td>...</td>\n      <td>...</td>\n      <td>...</td>\n      <td>...</td>\n      <td>...</td>\n      <td>...</td>\n      <td>...</td>\n      <td>...</td>\n      <td>...</td>\n      <td>...</td>\n      <td>...</td>\n      <td>...</td>\n      <td>...</td>\n      <td>...</td>\n    </tr>\n    <tr>\n      <th>1304</th>\n      <td>0.0</td>\n      <td>0.0</td>\n      <td>0.0</td>\n      <td>0.0</td>\n      <td>0.0</td>\n      <td>0.0</td>\n      <td>0.0</td>\n      <td>0.0</td>\n      <td>0.0</td>\n      <td>0.0</td>\n      <td>...</td>\n      <td>0.0</td>\n      <td>32.0</td>\n      <td>-1</td>\n      <td>1</td>\n      <td>7.7500</td>\n      <td>0</td>\n      <td>2</td>\n      <td>0</td>\n      <td>0</td>\n      <td>370376</td>\n    </tr>\n    <tr>\n      <th>1305</th>\n      <td>0.0</td>\n      <td>0.0</td>\n      <td>0.0</td>\n      <td>0.0</td>\n      <td>0.0</td>\n      <td>0.0</td>\n      <td>0.0</td>\n      <td>0.0</td>\n      <td>0.0</td>\n      <td>0.0</td>\n      <td>...</td>\n      <td>0.0</td>\n      <td>19.0</td>\n      <td>-1</td>\n      <td>2</td>\n      <td>7.7750</td>\n      <td>0</td>\n      <td>2</td>\n      <td>0</td>\n      <td>0</td>\n      <td>347069</td>\n    </tr>\n    <tr>\n      <th>1306</th>\n      <td>0.0</td>\n      <td>0.0</td>\n      <td>0.0</td>\n      <td>0.0</td>\n      <td>0.0</td>\n      <td>0.0</td>\n      <td>0.0</td>\n      <td>0.0</td>\n      <td>0.0</td>\n      <td>0.0</td>\n      <td>...</td>\n      <td>0.0</td>\n      <td>-1.0</td>\n      <td>-1</td>\n      <td>1</td>\n      <td>8.1375</td>\n      <td>0</td>\n      <td>2</td>\n      <td>1</td>\n      <td>0</td>\n      <td>330935</td>\n    </tr>\n    <tr>\n      <th>1307</th>\n      <td>0.0</td>\n      <td>0.0</td>\n      <td>0.0</td>\n      <td>0.0</td>\n      <td>0.0</td>\n      <td>0.0</td>\n      <td>0.0</td>\n      <td>0.0</td>\n      <td>0.0</td>\n      <td>0.0</td>\n      <td>...</td>\n      <td>0.0</td>\n      <td>31.0</td>\n      <td>-1</td>\n      <td>2</td>\n      <td>20.5250</td>\n      <td>1</td>\n      <td>2</td>\n      <td>1</td>\n      <td>1</td>\n      <td>363291</td>\n    </tr>\n    <tr>\n      <th>1308</th>\n      <td>0.0</td>\n      <td>0.0</td>\n      <td>0.0</td>\n      <td>0.0</td>\n      <td>0.0</td>\n      <td>0.0</td>\n      <td>0.0</td>\n      <td>0.0</td>\n      <td>0.0</td>\n      <td>0.0</td>\n      <td>...</td>\n      <td>0.0</td>\n      <td>36.0</td>\n      <td>-1</td>\n      <td>2</td>\n      <td>27.7500</td>\n      <td>2</td>\n      <td>1</td>\n      <td>0</td>\n      <td>1</td>\n      <td>34651</td>\n    </tr>\n  </tbody>\n</table>\n<p>1309 rows × 2825 columns</p>\n</div>"
     },
     "metadata": {},
     "execution_count": 9
    }
   ],
   "source": [
    "final_df=pd.concat([categorical_df,numeric_df],axis=1)\n",
    "final_df"
   ]
  },
  {
   "cell_type": "code",
   "execution_count": 10,
   "metadata": {},
   "outputs": [],
   "source": [
    "X_train, X_test, y_train, y_test = train_test_split(final_df,df['survived'], test_size=0.20, random_state=42)"
   ]
  },
  {
   "cell_type": "code",
   "execution_count": 11,
   "metadata": {},
   "outputs": [
    {
     "output_type": "stream",
     "name": "stdout",
     "text": [
      "Model: \"model\"\n_________________________________________________________________\nLayer (type)                 Output Shape              Param #   \n=================================================================\nfeatures (InputLayer)        [(None, 2825)]            0         \n_________________________________________________________________\nbatch_normalization (BatchNo (None, 2825)              11300     \n_________________________________________________________________\ndense (Dense)                (None, 32)                90432     \n_________________________________________________________________\nbatch_normalization_1 (Batch (None, 32)                128       \n_________________________________________________________________\nactivation (Activation)      (None, 32)                0         \n_________________________________________________________________\nsurvived (Dense)             (None, 1)                 33        \n=================================================================\nTotal params: 101,893\nTrainable params: 96,179\nNon-trainable params: 5,714\n_________________________________________________________________\n"
     ]
    }
   ],
   "source": [
    "inpt=Input(2825,name='features')\n",
    "x=BatchNormalization()(inpt)\n",
    "x=Dense(32)(x)\n",
    "x=BatchNormalization()(x)\n",
    "x=Activation(activation='swish')(x)\n",
    "x=Dense(1,activation='sigmoid',name='survived')(x)\n",
    "model=Model(inputs=inpt,outputs=x)\n",
    "model.compile(loss=\"binary_crossentropy\",\n",
    "              optimizer='adam',\n",
    "              metrics=[tf.keras.metrics.AUC(num_thresholds=200, curve='ROC'),tf.keras.metrics.PrecisionAtRecall(1, num_thresholds=200, name=None, dtype=None),'accuracy'])\n",
    "model.summary()"
   ]
  },
  {
   "cell_type": "code",
   "execution_count": 12,
   "metadata": {},
   "outputs": [],
   "source": [
    "X_train_ds=tf.data.Dataset.from_tensor_slices((tf.constant(X_train.astype('float32')),tf.constant(y_train.astype('float32')))).batch(100).prefetch(1)\n",
    "X_test_ds=tf.data.Dataset.from_tensor_slices((tf.constant(X_test.astype('float32')),tf.constant(y_test.astype('float32')))).batch(100).prefetch(1)"
   ]
  },
  {
   "cell_type": "code",
   "execution_count": 13,
   "metadata": {},
   "outputs": [
    {
     "output_type": "stream",
     "name": "stdout",
     "text": [
      "Epoch 1/50\n",
      "11/11 [==============================] - 3s 154ms/step - loss: 0.7023 - auc: 0.5986 - precision_at_recall: 0.3770 - accuracy: 0.5656 - val_loss: 0.6172 - val_auc: 0.8039 - val_precision_at_recall: 0.4192 - val_accuracy: 0.6832\n",
      "Epoch 2/50\n",
      "11/11 [==============================] - 0s 16ms/step - loss: 0.3665 - auc: 0.9754 - precision_at_recall: 0.5747 - accuracy: 0.9071 - val_loss: 0.5844 - val_auc: 0.8834 - val_precision_at_recall: 0.4507 - val_accuracy: 0.7366\n",
      "Epoch 3/50\n",
      "11/11 [==============================] - 0s 16ms/step - loss: 0.2357 - auc: 0.9977 - precision_at_recall: 0.8197 - accuracy: 0.9723 - val_loss: 0.5591 - val_auc: 0.9141 - val_precision_at_recall: 0.4898 - val_accuracy: 0.7519\n",
      "Epoch 4/50\n",
      "11/11 [==============================] - 0s 16ms/step - loss: 0.1634 - auc: 0.9999 - precision_at_recall: 0.9781 - accuracy: 0.9908 - val_loss: 0.5380 - val_auc: 0.9358 - val_precision_at_recall: 0.5053 - val_accuracy: 0.7901\n",
      "Epoch 5/50\n",
      "11/11 [==============================] - 0s 30ms/step - loss: 0.1186 - auc: 1.0000 - precision_at_recall: 0.9996 - accuracy: 0.9982 - val_loss: 0.5184 - val_auc: 0.9501 - val_precision_at_recall: 0.5026 - val_accuracy: 0.8282\n",
      "Epoch 6/50\n",
      "11/11 [==============================] - 0s 16ms/step - loss: 0.0894 - auc: 1.0000 - precision_at_recall: 1.0000 - accuracy: 1.0000 - val_loss: 0.4991 - val_auc: 0.9595 - val_precision_at_recall: 0.4974 - val_accuracy: 0.8473\n",
      "Epoch 7/50\n",
      "11/11 [==============================] - 0s 16ms/step - loss: 0.0696 - auc: 1.0000 - precision_at_recall: 1.0000 - accuracy: 1.0000 - val_loss: 0.4800 - val_auc: 0.9649 - val_precision_at_recall: 0.4948 - val_accuracy: 0.8893\n",
      "Epoch 8/50\n",
      "11/11 [==============================] - 0s 15ms/step - loss: 0.0557 - auc: 1.0000 - precision_at_recall: 1.0000 - accuracy: 1.0000 - val_loss: 0.4612 - val_auc: 0.9687 - val_precision_at_recall: 0.4873 - val_accuracy: 0.9084\n",
      "Epoch 9/50\n",
      "11/11 [==============================] - 0s 16ms/step - loss: 0.0457 - auc: 1.0000 - precision_at_recall: 1.0000 - accuracy: 1.0000 - val_loss: 0.4428 - val_auc: 0.9722 - val_precision_at_recall: 0.4873 - val_accuracy: 0.9160\n",
      "Epoch 10/50\n",
      "11/11 [==============================] - 0s 16ms/step - loss: 0.0382 - auc: 1.0000 - precision_at_recall: 1.0000 - accuracy: 1.0000 - val_loss: 0.4250 - val_auc: 0.9735 - val_precision_at_recall: 0.4800 - val_accuracy: 0.9198\n",
      "Epoch 11/50\n",
      "11/11 [==============================] - 0s 16ms/step - loss: 0.0326 - auc: 1.0000 - precision_at_recall: 1.0000 - accuracy: 1.0000 - val_loss: 0.4076 - val_auc: 0.9751 - val_precision_at_recall: 0.4848 - val_accuracy: 0.9198\n",
      "Epoch 12/50\n",
      "11/11 [==============================] - 0s 16ms/step - loss: 0.0282 - auc: 1.0000 - precision_at_recall: 1.0000 - accuracy: 1.0000 - val_loss: 0.3907 - val_auc: 0.9760 - val_precision_at_recall: 0.4752 - val_accuracy: 0.9313\n",
      "Epoch 13/50\n",
      "11/11 [==============================] - 0s 16ms/step - loss: 0.0247 - auc: 1.0000 - precision_at_recall: 1.0000 - accuracy: 1.0000 - val_loss: 0.3743 - val_auc: 0.9767 - val_precision_at_recall: 0.4752 - val_accuracy: 0.9313\n",
      "Epoch 14/50\n",
      "11/11 [==============================] - 0s 16ms/step - loss: 0.0219 - auc: 1.0000 - precision_at_recall: 1.0000 - accuracy: 1.0000 - val_loss: 0.3585 - val_auc: 0.9774 - val_precision_at_recall: 0.4683 - val_accuracy: 0.9351\n",
      "Epoch 15/50\n",
      "11/11 [==============================] - 0s 15ms/step - loss: 0.0195 - auc: 1.0000 - precision_at_recall: 1.0000 - accuracy: 1.0000 - val_loss: 0.3434 - val_auc: 0.9781 - val_precision_at_recall: 0.4683 - val_accuracy: 0.9351\n",
      "Epoch 16/50\n",
      "11/11 [==============================] - 0s 16ms/step - loss: 0.0176 - auc: 1.0000 - precision_at_recall: 1.0000 - accuracy: 1.0000 - val_loss: 0.3291 - val_auc: 0.9789 - val_precision_at_recall: 0.4660 - val_accuracy: 0.9389\n",
      "Epoch 17/50\n",
      "11/11 [==============================] - 0s 16ms/step - loss: 0.0159 - auc: 1.0000 - precision_at_recall: 1.0000 - accuracy: 1.0000 - val_loss: 0.3154 - val_auc: 0.9795 - val_precision_at_recall: 0.4683 - val_accuracy: 0.9389\n",
      "Epoch 18/50\n",
      "11/11 [==============================] - 0s 18ms/step - loss: 0.0145 - auc: 1.0000 - precision_at_recall: 1.0000 - accuracy: 1.0000 - val_loss: 0.3025 - val_auc: 0.9800 - val_precision_at_recall: 0.4638 - val_accuracy: 0.9427\n",
      "Epoch 19/50\n",
      "11/11 [==============================] - 0s 17ms/step - loss: 0.0133 - auc: 1.0000 - precision_at_recall: 1.0000 - accuracy: 1.0000 - val_loss: 0.2904 - val_auc: 0.9802 - val_precision_at_recall: 0.4638 - val_accuracy: 0.9466\n",
      "Epoch 20/50\n",
      "11/11 [==============================] - 0s 17ms/step - loss: 0.0122 - auc: 1.0000 - precision_at_recall: 1.0000 - accuracy: 1.0000 - val_loss: 0.2791 - val_auc: 0.9808 - val_precision_at_recall: 0.4593 - val_accuracy: 0.9542\n",
      "Epoch 21/50\n",
      "11/11 [==============================] - 0s 16ms/step - loss: 0.0113 - auc: 1.0000 - precision_at_recall: 1.0000 - accuracy: 1.0000 - val_loss: 0.2686 - val_auc: 0.9811 - val_precision_at_recall: 0.4593 - val_accuracy: 0.9542\n",
      "Epoch 22/50\n",
      "11/11 [==============================] - 0s 16ms/step - loss: 0.0105 - auc: 1.0000 - precision_at_recall: 1.0000 - accuracy: 1.0000 - val_loss: 0.2589 - val_auc: 0.9814 - val_precision_at_recall: 0.4615 - val_accuracy: 0.9542\n",
      "Epoch 23/50\n",
      "11/11 [==============================] - 0s 16ms/step - loss: 0.0097 - auc: 1.0000 - precision_at_recall: 1.0000 - accuracy: 1.0000 - val_loss: 0.2499 - val_auc: 0.9818 - val_precision_at_recall: 0.4571 - val_accuracy: 0.9542\n",
      "Epoch 24/50\n",
      "11/11 [==============================] - 0s 17ms/step - loss: 0.0091 - auc: 1.0000 - precision_at_recall: 1.0000 - accuracy: 1.0000 - val_loss: 0.2416 - val_auc: 0.9820 - val_precision_at_recall: 0.4638 - val_accuracy: 0.9542\n",
      "Epoch 25/50\n",
      "11/11 [==============================] - 0s 16ms/step - loss: 0.0085 - auc: 1.0000 - precision_at_recall: 1.0000 - accuracy: 1.0000 - val_loss: 0.2341 - val_auc: 0.9820 - val_precision_at_recall: 0.4571 - val_accuracy: 0.9542\n",
      "Epoch 26/50\n",
      "11/11 [==============================] - 0s 16ms/step - loss: 0.0079 - auc: 1.0000 - precision_at_recall: 1.0000 - accuracy: 1.0000 - val_loss: 0.2273 - val_auc: 0.9821 - val_precision_at_recall: 0.4593 - val_accuracy: 0.9542\n",
      "Epoch 27/50\n",
      "11/11 [==============================] - 0s 15ms/step - loss: 0.0075 - auc: 1.0000 - precision_at_recall: 1.0000 - accuracy: 1.0000 - val_loss: 0.2212 - val_auc: 0.9822 - val_precision_at_recall: 0.4571 - val_accuracy: 0.9542\n",
      "Epoch 28/50\n",
      "11/11 [==============================] - 0s 16ms/step - loss: 0.0070 - auc: 1.0000 - precision_at_recall: 1.0000 - accuracy: 1.0000 - val_loss: 0.2157 - val_auc: 0.9822 - val_precision_at_recall: 0.4550 - val_accuracy: 0.9542\n",
      "Epoch 29/50\n",
      "11/11 [==============================] - 0s 16ms/step - loss: 0.0066 - auc: 1.0000 - precision_at_recall: 1.0000 - accuracy: 1.0000 - val_loss: 0.2109 - val_auc: 0.9821 - val_precision_at_recall: 0.4571 - val_accuracy: 0.9542\n",
      "Epoch 30/50\n",
      "11/11 [==============================] - 0s 17ms/step - loss: 0.0063 - auc: 1.0000 - precision_at_recall: 1.0000 - accuracy: 1.0000 - val_loss: 0.2067 - val_auc: 0.9818 - val_precision_at_recall: 0.4593 - val_accuracy: 0.9580\n",
      "Epoch 31/50\n",
      "11/11 [==============================] - 0s 16ms/step - loss: 0.0059 - auc: 1.0000 - precision_at_recall: 1.0000 - accuracy: 1.0000 - val_loss: 0.2031 - val_auc: 0.9813 - val_precision_at_recall: 0.4528 - val_accuracy: 0.9580\n",
      "Epoch 32/50\n",
      "11/11 [==============================] - 0s 17ms/step - loss: 0.0056 - auc: 1.0000 - precision_at_recall: 1.0000 - accuracy: 1.0000 - val_loss: 0.2000 - val_auc: 0.9813 - val_precision_at_recall: 0.4638 - val_accuracy: 0.9580\n",
      "Epoch 33/50\n",
      "11/11 [==============================] - 0s 16ms/step - loss: 0.0053 - auc: 1.0000 - precision_at_recall: 1.0000 - accuracy: 1.0000 - val_loss: 0.1976 - val_auc: 0.9810 - val_precision_at_recall: 0.4593 - val_accuracy: 0.9580\n",
      "Epoch 34/50\n",
      "11/11 [==============================] - 0s 16ms/step - loss: 0.0051 - auc: 1.0000 - precision_at_recall: 1.0000 - accuracy: 1.0000 - val_loss: 0.1957 - val_auc: 0.9806 - val_precision_at_recall: 0.4571 - val_accuracy: 0.9580\n",
      "Epoch 35/50\n",
      "11/11 [==============================] - 0s 16ms/step - loss: 0.0048 - auc: 1.0000 - precision_at_recall: 1.0000 - accuracy: 1.0000 - val_loss: 0.1944 - val_auc: 0.9805 - val_precision_at_recall: 0.4593 - val_accuracy: 0.9580\n",
      "Epoch 36/50\n",
      "11/11 [==============================] - 0s 17ms/step - loss: 0.0046 - auc: 1.0000 - precision_at_recall: 1.0000 - accuracy: 1.0000 - val_loss: 0.1936 - val_auc: 0.9800 - val_precision_at_recall: 0.4571 - val_accuracy: 0.9504\n",
      "Epoch 37/50\n",
      "11/11 [==============================] - 0s 17ms/step - loss: 0.0044 - auc: 1.0000 - precision_at_recall: 1.0000 - accuracy: 1.0000 - val_loss: 0.1935 - val_auc: 0.9798 - val_precision_at_recall: 0.4660 - val_accuracy: 0.9504\n",
      "Epoch 38/50\n",
      "11/11 [==============================] - 0s 16ms/step - loss: 0.0042 - auc: 1.0000 - precision_at_recall: 1.0000 - accuracy: 1.0000 - val_loss: 0.1938 - val_auc: 0.9791 - val_precision_at_recall: 0.4638 - val_accuracy: 0.9504\n",
      "Epoch 39/50\n",
      "11/11 [==============================] - 0s 16ms/step - loss: 0.0040 - auc: 1.0000 - precision_at_recall: 1.0000 - accuracy: 1.0000 - val_loss: 0.1948 - val_auc: 0.9787 - val_precision_at_recall: 0.4729 - val_accuracy: 0.9466\n",
      "Epoch 40/50\n",
      "11/11 [==============================] - 0s 15ms/step - loss: 0.0038 - auc: 1.0000 - precision_at_recall: 1.0000 - accuracy: 1.0000 - val_loss: 0.1963 - val_auc: 0.9777 - val_precision_at_recall: 0.4660 - val_accuracy: 0.9351\n",
      "Epoch 41/50\n",
      "11/11 [==============================] - 0s 16ms/step - loss: 0.0037 - auc: 1.0000 - precision_at_recall: 1.0000 - accuracy: 1.0000 - val_loss: 0.1985 - val_auc: 0.9772 - val_precision_at_recall: 0.4752 - val_accuracy: 0.9313\n",
      "Epoch 42/50\n",
      "11/11 [==============================] - 0s 16ms/step - loss: 0.0035 - auc: 1.0000 - precision_at_recall: 1.0000 - accuracy: 1.0000 - val_loss: 0.2013 - val_auc: 0.9758 - val_precision_at_recall: 0.4800 - val_accuracy: 0.9275\n",
      "Epoch 43/50\n",
      "11/11 [==============================] - 0s 16ms/step - loss: 0.0034 - auc: 1.0000 - precision_at_recall: 1.0000 - accuracy: 1.0000 - val_loss: 0.2047 - val_auc: 0.9742 - val_precision_at_recall: 0.4752 - val_accuracy: 0.9237\n",
      "Epoch 44/50\n",
      "11/11 [==============================] - 0s 16ms/step - loss: 0.0033 - auc: 1.0000 - precision_at_recall: 1.0000 - accuracy: 1.0000 - val_loss: 0.2088 - val_auc: 0.9728 - val_precision_at_recall: 0.4752 - val_accuracy: 0.9198\n",
      "Epoch 45/50\n",
      "11/11 [==============================] - 0s 16ms/step - loss: 0.0031 - auc: 1.0000 - precision_at_recall: 1.0000 - accuracy: 1.0000 - val_loss: 0.2135 - val_auc: 0.9713 - val_precision_at_recall: 0.4706 - val_accuracy: 0.9084\n",
      "Epoch 46/50\n",
      "11/11 [==============================] - 0s 16ms/step - loss: 0.0030 - auc: 1.0000 - precision_at_recall: 1.0000 - accuracy: 1.0000 - val_loss: 0.2190 - val_auc: 0.9692 - val_precision_at_recall: 0.4706 - val_accuracy: 0.8931\n",
      "Epoch 47/50\n",
      "11/11 [==============================] - 0s 16ms/step - loss: 0.0029 - auc: 1.0000 - precision_at_recall: 1.0000 - accuracy: 1.0000 - val_loss: 0.2252 - val_auc: 0.9677 - val_precision_at_recall: 0.4800 - val_accuracy: 0.8931\n",
      "Epoch 48/50\n",
      "11/11 [==============================] - 0s 16ms/step - loss: 0.0028 - auc: 1.0000 - precision_at_recall: 1.0000 - accuracy: 1.0000 - val_loss: 0.2320 - val_auc: 0.9649 - val_precision_at_recall: 0.4776 - val_accuracy: 0.8931\n",
      "Epoch 49/50\n",
      "11/11 [==============================] - 0s 16ms/step - loss: 0.0027 - auc: 1.0000 - precision_at_recall: 1.0000 - accuracy: 1.0000 - val_loss: 0.2396 - val_auc: 0.9625 - val_precision_at_recall: 0.4800 - val_accuracy: 0.8855\n",
      "Epoch 50/50\n",
      "11/11 [==============================] - 0s 17ms/step - loss: 0.0026 - auc: 1.0000 - precision_at_recall: 1.0000 - accuracy: 1.0000 - val_loss: 0.2480 - val_auc: 0.9598 - val_precision_at_recall: 0.4638 - val_accuracy: 0.8855\n"
     ]
    },
    {
     "output_type": "execute_result",
     "data": {
      "text/plain": [
       "<tensorflow.python.keras.callbacks.History at 0x1a21641b130>"
      ]
     },
     "metadata": {},
     "execution_count": 13
    }
   ],
   "source": [
    "model.fit(X_train_ds,\n",
    "          validation_data=X_test_ds,epochs=50)"
   ]
  },
  {
   "cell_type": "code",
   "execution_count": 15,
   "metadata": {},
   "outputs": [
    {
     "output_type": "stream",
     "name": "stdout",
     "text": [
      "Collecting shap\n  Using cached shap-0.39.0-cp38-cp38-win_amd64.whl (414 kB)\nCollecting numba\n  Using cached numba-0.52.0-cp38-cp38-win_amd64.whl (2.3 MB)\nRequirement already satisfied: scipy in g:\\courses_softwares\\deeplearning.ai-tensorflow-developer-course\\venv\\lib\\site-packages (from shap) (1.6.0)\nCollecting slicer==0.0.7\n  Using cached slicer-0.0.7-py3-none-any.whl (14 kB)\nRequirement already satisfied: pandas in g:\\courses_softwares\\deeplearning.ai-tensorflow-developer-course\\venv\\lib\\site-packages (from shap) (1.2.1)\nRequirement already satisfied: tqdm>4.25.0 in g:\\courses_softwares\\deeplearning.ai-tensorflow-developer-course\\venv\\lib\\site-packages (from shap) (4.56.0)\nCollecting cloudpickle\n  Using cached cloudpickle-1.6.0-py3-none-any.whl (23 kB)\nRequirement already satisfied: numpy in g:\\courses_softwares\\deeplearning.ai-tensorflow-developer-course\\venv\\lib\\site-packages (from shap) (1.19.5)\nRequirement already satisfied: scikit-learn in g:\\courses_softwares\\deeplearning.ai-tensorflow-developer-course\\venv\\lib\\site-packages (from shap) (0.24.1)\nCollecting llvmlite<0.36,>=0.35.0\n  Using cached llvmlite-0.35.0-cp38-cp38-win_amd64.whl (16.0 MB)\nRequirement already satisfied: setuptools in g:\\courses_softwares\\deeplearning.ai-tensorflow-developer-course\\venv\\lib\\site-packages (from numba->shap) (53.0.0)\nRequirement already satisfied: python-dateutil>=2.7.3 in g:\\courses_softwares\\deeplearning.ai-tensorflow-developer-course\\venv\\lib\\site-packages (from pandas->shap) (2.8.1)\nRequirement already satisfied: pytz>=2017.3 in g:\\courses_softwares\\deeplearning.ai-tensorflow-developer-course\\venv\\lib\\site-packages (from pandas->shap) (2021.1)\nRequirement already satisfied: six>=1.5 in g:\\courses_softwares\\deeplearning.ai-tensorflow-developer-course\\venv\\lib\\site-packages (from python-dateutil>=2.7.3->pandas->shap) (1.15.0)\nRequirement already satisfied: joblib>=0.11 in g:\\courses_softwares\\deeplearning.ai-tensorflow-developer-course\\venv\\lib\\site-packages (from scikit-learn->shap) (1.0.0)\nRequirement already satisfied: threadpoolctl>=2.0.0 in g:\\courses_softwares\\deeplearning.ai-tensorflow-developer-course\\venv\\lib\\site-packages (from scikit-learn->shap) (2.1.0)\nInstalling collected packages: llvmlite, slicer, numba, cloudpickle, shap\nSuccessfully installed cloudpickle-1.6.0 llvmlite-0.35.0 numba-0.52.0 shap-0.39.0 slicer-0.0.7\n"
     ]
    }
   ],
   "source": [
    "!py -m pip install shap"
   ]
  },
  {
   "cell_type": "code",
   "execution_count": 24,
   "metadata": {},
   "outputs": [
    {
     "output_type": "execute_result",
     "data": {
      "text/plain": [
       "      features/boat_10  features/boat_11  features/boat_12  features/boat_13  \\\n",
       "772                0.0               0.0               0.0               0.0   \n",
       "543                0.0               0.0               1.0               0.0   \n",
       "289                0.0               0.0               0.0               0.0   \n",
       "10                 0.0               0.0               0.0               0.0   \n",
       "147                0.0               0.0               0.0               0.0   \n",
       "...                ...               ...               ...               ...   \n",
       "1095               0.0               0.0               0.0               0.0   \n",
       "1130               0.0               0.0               0.0               0.0   \n",
       "1294               0.0               0.0               0.0               0.0   \n",
       "860                0.0               0.0               0.0               0.0   \n",
       "1126               0.0               0.0               0.0               0.0   \n",
       "\n",
       "      features/boat_13 15  features/boat_13 15 B  features/boat_14  \\\n",
       "772                   0.0                    0.0               0.0   \n",
       "543                   0.0                    0.0               0.0   \n",
       "289                   0.0                    0.0               0.0   \n",
       "10                    0.0                    0.0               0.0   \n",
       "147                   0.0                    0.0               0.0   \n",
       "...                   ...                    ...               ...   \n",
       "1095                  0.0                    0.0               0.0   \n",
       "1130                  0.0                    0.0               0.0   \n",
       "1294                  0.0                    0.0               0.0   \n",
       "860                   0.0                    0.0               0.0   \n",
       "1126                  0.0                    0.0               0.0   \n",
       "\n",
       "      features/boat_15  features/boat_15 16  features/boat_16  ...  \\\n",
       "772                0.0                  0.0               0.0  ...   \n",
       "543                0.0                  0.0               0.0  ...   \n",
       "289                0.0                  0.0               0.0  ...   \n",
       "10                 0.0                  0.0               0.0  ...   \n",
       "147                0.0                  0.0               0.0  ...   \n",
       "...                ...                  ...               ...  ...   \n",
       "1095               0.0                  0.0               0.0  ...   \n",
       "1130               0.0                  0.0               0.0  ...   \n",
       "1294               0.0                  0.0               0.0  ...   \n",
       "860                0.0                  0.0               0.0  ...   \n",
       "1126               0.0                  0.0               0.0  ...   \n",
       "\n",
       "      features/ticket_WE/P 5735  features/age  features/body  \\\n",
       "772                         0.0          62.0             -1   \n",
       "543                         0.0          24.0             -1   \n",
       "289                         0.0          23.0             -1   \n",
       "10                          0.0          20.0             -1   \n",
       "147                         0.0          21.0             -1   \n",
       "...                         ...           ...            ...   \n",
       "1095                        0.0          56.0             -1   \n",
       "1130                        0.0          -1.0             -1   \n",
       "1294                        0.0          -1.0             -1   \n",
       "860                         0.0          23.0             -1   \n",
       "1126                        0.0          31.0             -1   \n",
       "\n",
       "      features/embarked  features/fare  features/parch  features/pclass  \\\n",
       "772                   3      80.000000               0                0   \n",
       "543                   2      27.000000               1                1   \n",
       "289                   2       7.550000               0                2   \n",
       "10                    2       7.050000               0                2   \n",
       "147                   2       7.925000               0                2   \n",
       "...                 ...            ...             ...              ...   \n",
       "1095                  0      35.500000               0                0   \n",
       "1130                  2       0.000000               0                0   \n",
       "1294                  0       7.229200               0                2   \n",
       "860                   2      13.000000               0                1   \n",
       "1126                  2     164.866699               2                0   \n",
       "\n",
       "      features/sex  features/sibsp  features/ticket  \n",
       "772              1               0           113572  \n",
       "543              1               2           243847  \n",
       "289              1               0             2314  \n",
       "10               0               0          3101307  \n",
       "147              0               0         23101280  \n",
       "...            ...             ...              ...  \n",
       "1095             0               0            13213  \n",
       "1130             0               0           112051  \n",
       "1294             0               0             2629  \n",
       "860              0               0           233639  \n",
       "1126             1               0            36928  \n",
       "\n",
       "[1047 rows x 2825 columns]"
      ],
      "text/html": "<div>\n<style scoped>\n    .dataframe tbody tr th:only-of-type {\n        vertical-align: middle;\n    }\n\n    .dataframe tbody tr th {\n        vertical-align: top;\n    }\n\n    .dataframe thead th {\n        text-align: right;\n    }\n</style>\n<table border=\"1\" class=\"dataframe\">\n  <thead>\n    <tr style=\"text-align: right;\">\n      <th></th>\n      <th>features/boat_10</th>\n      <th>features/boat_11</th>\n      <th>features/boat_12</th>\n      <th>features/boat_13</th>\n      <th>features/boat_13 15</th>\n      <th>features/boat_13 15 B</th>\n      <th>features/boat_14</th>\n      <th>features/boat_15</th>\n      <th>features/boat_15 16</th>\n      <th>features/boat_16</th>\n      <th>...</th>\n      <th>features/ticket_WE/P 5735</th>\n      <th>features/age</th>\n      <th>features/body</th>\n      <th>features/embarked</th>\n      <th>features/fare</th>\n      <th>features/parch</th>\n      <th>features/pclass</th>\n      <th>features/sex</th>\n      <th>features/sibsp</th>\n      <th>features/ticket</th>\n    </tr>\n  </thead>\n  <tbody>\n    <tr>\n      <th>772</th>\n      <td>0.0</td>\n      <td>0.0</td>\n      <td>0.0</td>\n      <td>0.0</td>\n      <td>0.0</td>\n      <td>0.0</td>\n      <td>0.0</td>\n      <td>0.0</td>\n      <td>0.0</td>\n      <td>0.0</td>\n      <td>...</td>\n      <td>0.0</td>\n      <td>62.0</td>\n      <td>-1</td>\n      <td>3</td>\n      <td>80.000000</td>\n      <td>0</td>\n      <td>0</td>\n      <td>1</td>\n      <td>0</td>\n      <td>113572</td>\n    </tr>\n    <tr>\n      <th>543</th>\n      <td>0.0</td>\n      <td>0.0</td>\n      <td>1.0</td>\n      <td>0.0</td>\n      <td>0.0</td>\n      <td>0.0</td>\n      <td>0.0</td>\n      <td>0.0</td>\n      <td>0.0</td>\n      <td>0.0</td>\n      <td>...</td>\n      <td>0.0</td>\n      <td>24.0</td>\n      <td>-1</td>\n      <td>2</td>\n      <td>27.000000</td>\n      <td>1</td>\n      <td>1</td>\n      <td>1</td>\n      <td>2</td>\n      <td>243847</td>\n    </tr>\n    <tr>\n      <th>289</th>\n      <td>0.0</td>\n      <td>0.0</td>\n      <td>0.0</td>\n      <td>0.0</td>\n      <td>0.0</td>\n      <td>0.0</td>\n      <td>0.0</td>\n      <td>0.0</td>\n      <td>0.0</td>\n      <td>0.0</td>\n      <td>...</td>\n      <td>0.0</td>\n      <td>23.0</td>\n      <td>-1</td>\n      <td>2</td>\n      <td>7.550000</td>\n      <td>0</td>\n      <td>2</td>\n      <td>1</td>\n      <td>0</td>\n      <td>2314</td>\n    </tr>\n    <tr>\n      <th>10</th>\n      <td>0.0</td>\n      <td>0.0</td>\n      <td>0.0</td>\n      <td>0.0</td>\n      <td>0.0</td>\n      <td>0.0</td>\n      <td>0.0</td>\n      <td>0.0</td>\n      <td>0.0</td>\n      <td>0.0</td>\n      <td>...</td>\n      <td>0.0</td>\n      <td>20.0</td>\n      <td>-1</td>\n      <td>2</td>\n      <td>7.050000</td>\n      <td>0</td>\n      <td>2</td>\n      <td>0</td>\n      <td>0</td>\n      <td>3101307</td>\n    </tr>\n    <tr>\n      <th>147</th>\n      <td>0.0</td>\n      <td>0.0</td>\n      <td>0.0</td>\n      <td>0.0</td>\n      <td>0.0</td>\n      <td>0.0</td>\n      <td>0.0</td>\n      <td>0.0</td>\n      <td>0.0</td>\n      <td>0.0</td>\n      <td>...</td>\n      <td>0.0</td>\n      <td>21.0</td>\n      <td>-1</td>\n      <td>2</td>\n      <td>7.925000</td>\n      <td>0</td>\n      <td>2</td>\n      <td>0</td>\n      <td>0</td>\n      <td>23101280</td>\n    </tr>\n    <tr>\n      <th>...</th>\n      <td>...</td>\n      <td>...</td>\n      <td>...</td>\n      <td>...</td>\n      <td>...</td>\n      <td>...</td>\n      <td>...</td>\n      <td>...</td>\n      <td>...</td>\n      <td>...</td>\n      <td>...</td>\n      <td>...</td>\n      <td>...</td>\n      <td>...</td>\n      <td>...</td>\n      <td>...</td>\n      <td>...</td>\n      <td>...</td>\n      <td>...</td>\n      <td>...</td>\n      <td>...</td>\n    </tr>\n    <tr>\n      <th>1095</th>\n      <td>0.0</td>\n      <td>0.0</td>\n      <td>0.0</td>\n      <td>0.0</td>\n      <td>0.0</td>\n      <td>0.0</td>\n      <td>0.0</td>\n      <td>0.0</td>\n      <td>0.0</td>\n      <td>0.0</td>\n      <td>...</td>\n      <td>0.0</td>\n      <td>56.0</td>\n      <td>-1</td>\n      <td>0</td>\n      <td>35.500000</td>\n      <td>0</td>\n      <td>0</td>\n      <td>0</td>\n      <td>0</td>\n      <td>13213</td>\n    </tr>\n    <tr>\n      <th>1130</th>\n      <td>0.0</td>\n      <td>0.0</td>\n      <td>0.0</td>\n      <td>0.0</td>\n      <td>0.0</td>\n      <td>0.0</td>\n      <td>0.0</td>\n      <td>0.0</td>\n      <td>0.0</td>\n      <td>0.0</td>\n      <td>...</td>\n      <td>0.0</td>\n      <td>-1.0</td>\n      <td>-1</td>\n      <td>2</td>\n      <td>0.000000</td>\n      <td>0</td>\n      <td>0</td>\n      <td>0</td>\n      <td>0</td>\n      <td>112051</td>\n    </tr>\n    <tr>\n      <th>1294</th>\n      <td>0.0</td>\n      <td>0.0</td>\n      <td>0.0</td>\n      <td>0.0</td>\n      <td>0.0</td>\n      <td>0.0</td>\n      <td>0.0</td>\n      <td>0.0</td>\n      <td>0.0</td>\n      <td>0.0</td>\n      <td>...</td>\n      <td>0.0</td>\n      <td>-1.0</td>\n      <td>-1</td>\n      <td>0</td>\n      <td>7.229200</td>\n      <td>0</td>\n      <td>2</td>\n      <td>0</td>\n      <td>0</td>\n      <td>2629</td>\n    </tr>\n    <tr>\n      <th>860</th>\n      <td>0.0</td>\n      <td>0.0</td>\n      <td>0.0</td>\n      <td>0.0</td>\n      <td>0.0</td>\n      <td>0.0</td>\n      <td>0.0</td>\n      <td>0.0</td>\n      <td>0.0</td>\n      <td>0.0</td>\n      <td>...</td>\n      <td>0.0</td>\n      <td>23.0</td>\n      <td>-1</td>\n      <td>2</td>\n      <td>13.000000</td>\n      <td>0</td>\n      <td>1</td>\n      <td>0</td>\n      <td>0</td>\n      <td>233639</td>\n    </tr>\n    <tr>\n      <th>1126</th>\n      <td>0.0</td>\n      <td>0.0</td>\n      <td>0.0</td>\n      <td>0.0</td>\n      <td>0.0</td>\n      <td>0.0</td>\n      <td>0.0</td>\n      <td>0.0</td>\n      <td>0.0</td>\n      <td>0.0</td>\n      <td>...</td>\n      <td>0.0</td>\n      <td>31.0</td>\n      <td>-1</td>\n      <td>2</td>\n      <td>164.866699</td>\n      <td>2</td>\n      <td>0</td>\n      <td>1</td>\n      <td>0</td>\n      <td>36928</td>\n    </tr>\n  </tbody>\n</table>\n<p>1047 rows × 2825 columns</p>\n</div>"
     },
     "metadata": {},
     "execution_count": 24
    }
   ],
   "source": [
    "X_train"
   ]
  }
 ]
}